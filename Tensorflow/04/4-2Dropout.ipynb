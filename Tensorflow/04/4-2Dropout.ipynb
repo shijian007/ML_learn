{
 "cells": [
  {
   "cell_type": "code",
   "execution_count": 2,
   "metadata": {
    "collapsed": false
   },
   "outputs": [
    {
     "name": "stdout",
     "output_type": "stream",
     "text": [
      "Extracting MNIST_data\\train-images-idx3-ubyte.gz\n",
      "Extracting MNIST_data\\train-labels-idx1-ubyte.gz\n",
      "Extracting MNIST_data\\t10k-images-idx3-ubyte.gz\n",
      "Extracting MNIST_data\\t10k-labels-idx1-ubyte.gz\n",
      "Iter 0,Testing Accuracy 0.9137,Training Accuracy 0.91023636\n",
      "Iter 1,Testing Accuracy 0.9308,Training Accuracy 0.9274909\n",
      "Iter 2,Testing Accuracy 0.9365,Training Accuracy 0.9336182\n",
      "Iter 3,Testing Accuracy 0.9406,Training Accuracy 0.9403091\n",
      "Iter 4,Testing Accuracy 0.9447,Training Accuracy 0.9452364\n",
      "Iter 5,Testing Accuracy 0.947,Training Accuracy 0.9477818\n",
      "Iter 6,Testing Accuracy 0.9503,Training Accuracy 0.9514\n",
      "Iter 7,Testing Accuracy 0.9498,Training Accuracy 0.95372725\n",
      "Iter 8,Testing Accuracy 0.9544,Training Accuracy 0.9567636\n",
      "Iter 9,Testing Accuracy 0.9552,Training Accuracy 0.9588182\n",
      "Iter 10,Testing Accuracy 0.9553,Training Accuracy 0.9608\n",
      "Iter 11,Testing Accuracy 0.9589,Training Accuracy 0.9618\n",
      "Iter 12,Testing Accuracy 0.9586,Training Accuracy 0.9635818\n",
      "Iter 13,Testing Accuracy 0.9603,Training Accuracy 0.96418184\n",
      "Iter 14,Testing Accuracy 0.9612,Training Accuracy 0.966\n",
      "Iter 15,Testing Accuracy 0.9623,Training Accuracy 0.9666\n",
      "Iter 16,Testing Accuracy 0.9631,Training Accuracy 0.9682364\n",
      "Iter 17,Testing Accuracy 0.964,Training Accuracy 0.9682909\n",
      "Iter 18,Testing Accuracy 0.9641,Training Accuracy 0.97047275\n",
      "Iter 19,Testing Accuracy 0.9651,Training Accuracy 0.97083634\n",
      "Iter 20,Testing Accuracy 0.9649,Training Accuracy 0.97065455\n",
      "Iter 21,Testing Accuracy 0.9674,Training Accuracy 0.9732\n",
      "Iter 22,Testing Accuracy 0.9674,Training Accuracy 0.9732909\n",
      "Iter 23,Testing Accuracy 0.9686,Training Accuracy 0.97432727\n",
      "Iter 24,Testing Accuracy 0.9684,Training Accuracy 0.9745273\n",
      "Iter 25,Testing Accuracy 0.9683,Training Accuracy 0.9745091\n",
      "Iter 26,Testing Accuracy 0.9685,Training Accuracy 0.976\n",
      "Iter 27,Testing Accuracy 0.9685,Training Accuracy 0.9756727\n",
      "Iter 28,Testing Accuracy 0.9695,Training Accuracy 0.977\n",
      "Iter 29,Testing Accuracy 0.9705,Training Accuracy 0.9774909\n",
      "Iter 30,Testing Accuracy 0.971,Training Accuracy 0.9779636\n"
     ]
    }
   ],
   "source": [
    "import tensorflow as tf\n",
    "from tensorflow.examples.tutorials.mnist import input_data\n",
    "\n",
    "#载入数据集\n",
    "mnist = input_data.read_data_sets(\"MNIST_data\",one_hot=True)\n",
    "\n",
    "#每个批次的大小\n",
    "batch_size = 100\n",
    "#计算一共有多少个批次\n",
    "n_batch = mnist.train.num_examples // batch_size\n",
    "\n",
    "#定义两个placeholder\n",
    "x = tf.placeholder(tf.float32,[None,784])\n",
    "y = tf.placeholder(tf.float32,[None,10])\n",
    "keep_prob=tf.placeholder(tf.float32)\n",
    "\n",
    "#创建一个简单的神经网络\n",
    "W1 = tf.Variable(tf.truncated_normal([784,2000],stddev=0.1))\n",
    "b1 = tf.Variable(tf.zeros([2000])+0.1)\n",
    "L1 = tf.nn.tanh(tf.matmul(x,W1)+b1)\n",
    "L1_drop = tf.nn.dropout(L1,keep_prob) \n",
    "\n",
    "W2 = tf.Variable(tf.truncated_normal([2000,2000],stddev=0.1))\n",
    "b2 = tf.Variable(tf.zeros([2000])+0.1)\n",
    "L2 = tf.nn.tanh(tf.matmul(L1_drop,W2)+b2)\n",
    "L2_drop = tf.nn.dropout(L2,keep_prob) \n",
    "\n",
    "W3 = tf.Variable(tf.truncated_normal([2000,1000],stddev=0.1))\n",
    "b3 = tf.Variable(tf.zeros([1000])+0.1)\n",
    "L3 = tf.nn.tanh(tf.matmul(L2_drop,W3)+b3)\n",
    "L3_drop = tf.nn.dropout(L3,keep_prob) \n",
    "\n",
    "W4 = tf.Variable(tf.truncated_normal([1000,10],stddev=0.1))\n",
    "b4 = tf.Variable(tf.zeros([10])+0.1)\n",
    "prediction = tf.nn.softmax(tf.matmul(L3_drop,W4)+b4)\n",
    "\n",
    "#二次代价函数\n",
    "# loss = tf.reduce_mean(tf.square(y-prediction))\n",
    "loss = tf.reduce_mean(tf.nn.softmax_cross_entropy_with_logits(labels=y,logits=prediction))\n",
    "#使用梯度下降法\n",
    "train_step = tf.train.GradientDescentOptimizer(0.2).minimize(loss)\n",
    "\n",
    "#初始化变量\n",
    "init = tf.global_variables_initializer()\n",
    "\n",
    "#结果存放在一个布尔型列表中\n",
    "correct_prediction = tf.equal(tf.argmax(y,1),tf.argmax(prediction,1))#argmax返回一维张量中最大的值所在的位置\n",
    "#求准确率\n",
    "accuracy = tf.reduce_mean(tf.cast(correct_prediction,tf.float32))\n",
    "\n",
    "with tf.Session() as sess:\n",
    "    sess.run(init)\n",
    "    for epoch in range(31):\n",
    "        for batch in range(n_batch):\n",
    "            batch_xs,batch_ys =  mnist.train.next_batch(batch_size)\n",
    "            sess.run(train_step,feed_dict={x:batch_xs,y:batch_ys,keep_prob:0.7})\n",
    "        \n",
    "        test_acc = sess.run(accuracy,feed_dict={x:mnist.test.images,y:mnist.test.labels,keep_prob:1.0})\n",
    "        train_acc = sess.run(accuracy,feed_dict={x:mnist.train.images,y:mnist.train.labels,keep_prob:1.0})\n",
    "        print(\"Iter \" + str(epoch) + \",Testing Accuracy \" + str(test_acc) +\",Training Accuracy \" + str(train_acc))"
   ]
  },
  {
   "cell_type": "code",
   "execution_count": null,
   "metadata": {
    "collapsed": true
   },
   "outputs": [],
   "source": [
    "Iter 29,Testing Accuracy 0.9727,Training Accuracy 0.995655\n",
    "Iter 30,Testing Accuracy 0.9722,Training Accuracy 0.995782"
   ]
  },
  {
   "cell_type": "code",
   "execution_count": 1,
   "metadata": {
    "collapsed": false
   },
   "outputs": [],
   "source": [
    "import xgboost as xgb"
   ]
  },
  {
   "cell_type": "code",
   "execution_count": null,
   "metadata": {
    "collapsed": true
   },
   "outputs": [],
   "source": []
  }
 ],
 "metadata": {
  "anaconda-cloud": {},
  "kernelspec": {
   "display_name": "Python [default]",
   "language": "python",
   "name": "python3"
  },
  "language_info": {
   "codemirror_mode": {
    "name": "ipython",
    "version": 3
   },
   "file_extension": ".py",
   "mimetype": "text/x-python",
   "name": "python",
   "nbconvert_exporter": "python",
   "pygments_lexer": "ipython3",
   "version": "3.5.2"
  }
 },
 "nbformat": 4,
 "nbformat_minor": 1
}
