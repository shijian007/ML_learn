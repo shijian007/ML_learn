{
 "cells": [
  {
   "cell_type": "code",
   "execution_count": 3,
   "metadata": {
    "collapsed": true
   },
   "outputs": [],
   "source": [
    "import tensorflow as tf\n",
    "import numpy as np\n",
    "from tensorflow.examples.tutorials.mnist import inputut_data"
   ]
  },
  {
   "cell_type": "code",
   "execution_count": 11,
   "metadata": {
    "collapsed": false
   },
   "outputs": [
    {
     "name": "stdout",
     "output_type": "stream",
     "text": [
      "Extracting MNIST_Data\\train-images-idx3-ubyte.gz\n",
      "Extracting MNIST_Data\\train-labels-idx1-ubyte.gz\n",
      "Extracting MNIST_Data\\t10k-images-idx3-ubyte.gz\n",
      "Extracting MNIST_Data\\t10k-labels-idx1-ubyte.gz\n",
      "Iter:0, Accuracy:0.8319\n",
      "Iter:1, Accuracy:0.8696\n",
      "Iter:2, Accuracy:0.8816\n",
      "Iter:3, Accuracy:0.8874\n",
      "Iter:4, Accuracy:0.8944\n",
      "Iter:5, Accuracy:0.8962\n",
      "Iter:6, Accuracy:0.9\n",
      "Iter:7, Accuracy:0.9012\n",
      "Iter:8, Accuracy:0.9032\n",
      "Iter:9, Accuracy:0.9051\n",
      "Iter:10, Accuracy:0.9057\n",
      "Iter:11, Accuracy:0.9066\n",
      "Iter:12, Accuracy:0.9083\n",
      "Iter:13, Accuracy:0.9091\n",
      "Iter:14, Accuracy:0.9103\n",
      "Iter:15, Accuracy:0.9105\n",
      "Iter:16, Accuracy:0.9114\n",
      "Iter:17, Accuracy:0.9124\n",
      "Iter:18, Accuracy:0.9124\n",
      "Iter:19, Accuracy:0.9138\n",
      "Iter:20, Accuracy:0.9143\n"
     ]
    }
   ],
   "source": [
    "mnist = input_data.read_data_sets('MNIST_Data', one_hot = True)\n",
    "\n",
    "batch_size = 100\n",
    "n_batch = mnist.train.num_examples // batch_size\n",
    "\n",
    "x = tf.placeholder(tf.float32, [None, 784])\n",
    "y = tf.placeholder(tf.float32, [None, 10])\n",
    "\n",
    "weight = tf.Variable(tf.zeros([784, 10]))\n",
    "bias = tf.Variable(tf.zeros([10]))\n",
    "L1 = tf.matmul(x, weight) + bias\n",
    "prediction = tf.nn.softmax(L1)\n",
    "\n",
    "loss = tf.reduce_mean(tf.square(y - prediction))\n",
    "train_step = tf.train.GradientDescentOptimizer(0.2).minimize(loss)\n",
    "\n",
    "correct_prediction = tf.equal(tf.argmax(y,1),tf.argmax(prediction,1))\n",
    "accuracy = tf.reduce_mean(tf.cast(correct_prediction, tf.float32))\n",
    "\n",
    "with tf.Session() as sess:\n",
    "    sess.run(tf.global_variables_initializer())\n",
    "    for epoch in range(21):\n",
    "        for batch in range(n_batch):\n",
    "            batch_x, batch_y = mnist.train.next_batch(batch_size)\n",
    "            sess.run(train_step,feed_dict={x:batch_x, y:batch_y})\n",
    "        acc = sess.run(accuracy, feed_dict={x:mnist.test.images, y:mnist.test.labels})\n",
    "        print(\"Iter:\" + str(epoch) + \", Accuracy:\" + str(acc))"
   ]
  },
  {
   "cell_type": "code",
   "execution_count": null,
   "metadata": {
    "collapsed": true
   },
   "outputs": [],
   "source": []
  },
  {
   "cell_type": "code",
   "execution_count": null,
   "metadata": {
    "collapsed": true
   },
   "outputs": [],
   "source": []
  },
  {
   "cell_type": "code",
   "execution_count": null,
   "metadata": {
    "collapsed": true
   },
   "outputs": [],
   "source": []
  },
  {
   "cell_type": "code",
   "execution_count": null,
   "metadata": {
    "collapsed": true
   },
   "outputs": [],
   "source": []
  },
  {
   "cell_type": "code",
   "execution_count": null,
   "metadata": {
    "collapsed": true
   },
   "outputs": [],
   "source": []
  },
  {
   "cell_type": "code",
   "execution_count": null,
   "metadata": {
    "collapsed": true
   },
   "outputs": [],
   "source": []
  },
  {
   "cell_type": "code",
   "execution_count": null,
   "metadata": {
    "collapsed": true
   },
   "outputs": [],
   "source": []
  },
  {
   "cell_type": "code",
   "execution_count": null,
   "metadata": {
    "collapsed": true
   },
   "outputs": [],
   "source": []
  }
 ],
 "metadata": {
  "anaconda-cloud": {},
  "kernelspec": {
   "display_name": "Python [conda root]",
   "language": "python",
   "name": "conda-root-py"
  },
  "language_info": {
   "codemirror_mode": {
    "name": "ipython",
    "version": 3
   },
   "file_extension": ".py",
   "mimetype": "text/x-python",
   "name": "python",
   "nbconvert_exporter": "python",
   "pygments_lexer": "ipython3",
   "version": "3.5.2"
  }
 },
 "nbformat": 4,
 "nbformat_minor": 2
}
