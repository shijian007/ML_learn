import tensorflow as tf
from tensorflow.examples.tutorials.mnist import input_data

mnist = input_data.read_data_sets("MNIST_Data/", one_hot=True)

x = tf.placeholder(tf.float32,[None,784])
y_ = tf.placeholder(tf.float32,[None,10])

def weight(shape):
	initial = tf.truncated_normal(shape,stddev = 0.1)
	return tf.Variable(initial)
	
def bias(shape):
	initial = tf.constant(0.1, shape)
	return tf.Variable(initial)
	
def conv2d(x,W):
	return tf.nn.conv2d(x,W,stride = [1,1,1,1],padding = 'SAME')

def max_pooling_2X2(x):
	return tf.nn.max_pool(x,ksize = [1,2,2,1],stride = [1,2,2,1],padding = 'SAME')
	
x_image = tf.reshape(x,[-1,28,28,1])
weight_L1 = weight([5,5,1,6])
bias_L1 = bias([6])
conv_L1 = tf.nn.relu(conv2d(x_image,weight_L1) + bias_L1)
h_L1 = max_pooling_2X2(conv_L1)

weight_L2 = weight([5,5,6,16])
bias_L2 = bias([16])	
conv_L2 = tf.nn.relu(conv2d(h_L1,weight_L2) + bias_L2)
h_L2 = max_pooling_2X2(conv_L2)




