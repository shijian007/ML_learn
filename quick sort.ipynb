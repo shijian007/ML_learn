{
 "cells": [
  {
   "cell_type": "markdown",
   "metadata": {},
   "source": [
    "算法导论-快排实现\n",
    "从list中的一侧开始排序"
   ]
  },
  {
   "cell_type": "code",
   "execution_count": 1,
   "metadata": {
    "collapsed": false
   },
   "outputs": [
    {
     "name": "stdout",
     "output_type": "stream",
     "text": [
      "list:[0, 1, 1, 3, 3, 4, 4, 5, 5, 6, 7, 8, 9]\n"
     ]
    }
   ],
   "source": [
    "def partition(nums, left, right):\n",
    "    key = nums[right]\n",
    "    i = left - 1\n",
    "    for j in range(left, right):\n",
    "        if nums[j] <= key:\n",
    "            i = i + 1\n",
    "            nums[i], nums[j] = nums[j], nums[i]\n",
    "    nums[i + 1], nums[right] = nums[right], nums[i + 1]\n",
    "    return i + 1\n",
    "\n",
    "def quick_sort(nums, left, right):\n",
    "    if left < right:\n",
    "        key_index = partition(nums, left, right)\n",
    "        quick_sort(nums, left, key_index - 1)\n",
    "        quick_sort(nums, key_index + 1, right)\n",
    "\n",
    "num = [8,4,5,1,6,3,0,4,9,3,1,7,5]\n",
    "quick_sort(num, 0, len(num) - 1)\n",
    "print('list:{0}'.format(num))"
   ]
  },
  {
   "cell_type": "markdown",
   "metadata": {},
   "source": [
    "网上的快排算法\n",
    "从list两侧开始排序"
   ]
  },
  {
   "cell_type": "code",
   "execution_count": 4,
   "metadata": {
    "collapsed": false
   },
   "outputs": [
    {
     "name": "stdout",
     "output_type": "stream",
     "text": [
      "list:[5, 0, 1, 1, 3, 3, 4, 4, 5, 6, 7, 8, 9]\n"
     ]
    }
   ],
   "source": [
    "def partition(nums, left, right):\n",
    "    key = nums[left]\n",
    "    while left < right:\n",
    "        while left < right and nums[left] < key:\n",
    "            left += 1\n",
    "        if left < right:\n",
    "            nums[left], nums[right] = nums[right], nums[left]\n",
    "        else:\n",
    "            break\n",
    "            \n",
    "        while left < right and nums[right] >= key:\n",
    "            right -= 1\n",
    "        if left < right:\n",
    "            nums[left], nums[right] = nums[right], nums[left]\n",
    "        else:\n",
    "            break\n",
    "            \n",
    "    return left\n",
    "\n",
    "def quick_sort_1(nums, left, right):\n",
    "    if left < right:\n",
    "        key_index = partition(nums, left, right)\n",
    "        quick_sort_1(nums, left, key_index)\n",
    "        quick_sort_1(nums, key_index + 1, right)\n",
    "\n",
    "num = [8,4,5,1,6,3,0,4,9,3,1,7,5]\n",
    "quick_sort_2(num, 0, len(num) - 1)\n",
    "print('list:{0}'.format(num))"
   ]
  },
  {
   "cell_type": "code",
   "execution_count": 7,
   "metadata": {
    "collapsed": false
   },
   "outputs": [
    {
     "name": "stdout",
     "output_type": "stream",
     "text": [
      "[0, 1, 2, 2, 3, 3, 4, 5, 5, 6, 7]\n"
     ]
    }
   ],
   "source": [
    "def partion(nums,left,right):\n",
    "    key = nums[left]\n",
    "    while left < right:\n",
    "        # right下标位置开始，向左边遍历，查找不大于基准数的元素\n",
    "        while left < right and nums[right] >= key:\n",
    "            right -= 1\n",
    "        if left < right:  # 找到小于准基数key的元素,然后交换nums[left],nums[right]\n",
    "            nums[left],nums[right] = nums[right],nums[left]\n",
    "        else:   # left〉=right 跳出循环\n",
    "            break\n",
    "        # left下标位置开始，向右边遍历，查找不小于基准数的元素\n",
    "        while left < right and nums[left] < key:\n",
    "            left += 1\n",
    "        if left < right:  # 找到比基准数大的元素，然后交换nums[left],nums[right]\n",
    "            nums[right],nums[left] = nums[left],nums[right]\n",
    "        else: # left〉=right 跳出循环\n",
    "            break\n",
    "    return left  #此时left==right 所以返回right也是可以的\n",
    "\n",
    "#realize from book \"data struct\" of author 严蔚敏\n",
    "def quick_sort_standord(nums,left,right):\n",
    "    if left < right:\n",
    "        key_index = partion(nums,left,right)\n",
    "        quick_sort_standord(nums,left,key_index)\n",
    "        quick_sort_standord(nums,key_index+1,right)\n",
    "\n",
    "if __name__ == '__main__':\n",
    "    nums = [5, 6, 4, 2, 3,1,3,5,0,7,2]\n",
    "    quick_sort_standord(nums,0,len(nums)-1)\n",
    "    print(nums)"
   ]
  },
  {
   "cell_type": "code",
   "execution_count": null,
   "metadata": {
    "collapsed": true
   },
   "outputs": [],
   "source": []
  }
 ],
 "metadata": {
  "anaconda-cloud": {},
  "kernelspec": {
   "display_name": "Python [conda root]",
   "language": "python",
   "name": "conda-root-py"
  },
  "language_info": {
   "codemirror_mode": {
    "name": "ipython",
    "version": 3
   },
   "file_extension": ".py",
   "mimetype": "text/x-python",
   "name": "python",
   "nbconvert_exporter": "python",
   "pygments_lexer": "ipython3",
   "version": "3.5.2"
  }
 },
 "nbformat": 4,
 "nbformat_minor": 2
}
