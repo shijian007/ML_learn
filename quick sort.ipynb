{
 "cells": [
  {
   "cell_type": "markdown",
   "metadata": {},
   "source": [
    "算法导论-快排实现\n",
    "从list中的一侧开始排序"
   ]
  },
  {
   "cell_type": "code",
   "execution_count": 5,
   "metadata": {
    "collapsed": false
   },
   "outputs": [
    {
     "name": "stdout",
     "output_type": "stream",
     "text": [
      "list:[0, 1, 1, 3, 3, 4, 4, 5, 5, 6, 7, 8, 9]\n"
     ]
    }
   ],
   "source": [
    "def partition(nums, left, right):\n",
    "    key = nums[right]\n",
    "    i = left - 1\n",
    "    for j in range(left, right):\n",
    "        if nums[j] <= key:\n",
    "            i = i + 1\n",
    "            nums[i], nums[j] = nums[j], nums[i]\n",
    "    nums[i + 1], nums[right] = nums[right], nums[i + 1]\n",
    "    return i + 1\n",
    "\n",
    "def quick_sort(nums, left, right):\n",
    "    if left < right:\n",
    "        key_index = partition(nums, left, right)\n",
    "        quick_sort(nums, left, key_index - 1)\n",
    "        quick_sort(nums, key_index + 1, right)\n",
    "\n",
    "num = [8,4,5,1,6,3,0,4,9,3,1,7,5]\n",
    "quick_sort(num, 0, len(num) - 1)\n",
    "print('list:{0}'.format(num))"
   ]
  },
  {
   "cell_type": "markdown",
   "metadata": {},
   "source": [
    "网上的快排算法\n",
    "从list两侧开始排序"
   ]
  },
  {
   "cell_type": "code",
   "execution_count": 4,
   "metadata": {
    "collapsed": false
   },
   "outputs": [
    {
     "name": "stdout",
     "output_type": "stream",
     "text": [
      "list:[5, 0, 1, 1, 3, 3, 4, 4, 5, 6, 7, 8, 9]\n"
     ]
    }
   ],
   "source": [
    "def partition(nums, left, right):\n",
    "    key = nums[left]\n",
    "    while left < right:\n",
    "        while left < right and nums[left] < key:\n",
    "            left += 1\n",
    "        if left < right:\n",
    "            nums[left], nums[right] = nums[right], nums[left]\n",
    "        else:\n",
    "            break\n",
    "            \n",
    "        while left < right and nums[right] >= key:\n",
    "            right -= 1\n",
    "        if left < right:\n",
    "            nums[left], nums[right] = nums[right], nums[left]\n",
    "        else:\n",
    "            break\n",
    "            \n",
    "    return left\n",
    "\n",
    "def quick_sort_1(nums, left, right):\n",
    "    if left < right:\n",
    "        key_index = partition(nums, left, right)\n",
    "        quick_sort_1(nums, left, key_index)\n",
    "        quick_sort_1(nums, key_index + 1, right)\n",
    "\n",
    "num = [8,4,5,1,6,3,0,4,9,3,1,7,5]\n",
    "quick_sort_2(num, 0, len(num) - 1)\n",
    "print('list:{0}'.format(num))"
   ]
  },
  {
   "cell_type": "code",
   "execution_count": 7,
   "metadata": {
    "collapsed": false
   },
   "outputs": [
    {
     "name": "stdout",
     "output_type": "stream",
     "text": [
      "[0, 1, 2, 2, 3, 3, 4, 5, 5, 6, 7]\n"
     ]
    }
   ],
   "source": [
    "def partion(nums,left,right):\n",
    "    key = nums[left]\n",
    "    while left < right:\n",
    "        # right下标位置开始，向左边遍历，查找不大于基准数的元素\n",
    "        while left < right and nums[right] >= key:\n",
    "            right -= 1\n",
    "        if left < right:  # 找到小于准基数key的元素,然后交换nums[left],nums[right]\n",
    "            nums[left],nums[right] = nums[right],nums[left]\n",
    "        else:   # left〉=right 跳出循环\n",
    "            break\n",
    "        # left下标位置开始，向右边遍历，查找不小于基准数的元素\n",
    "        while left < right and nums[left] < key:\n",
    "            left += 1\n",
    "        if left < right:  # 找到比基准数大的元素，然后交换nums[left],nums[right]\n",
    "            nums[right],nums[left] = nums[left],nums[right]\n",
    "        else: # left〉=right 跳出循环\n",
    "            break\n",
    "    return left  #此时left==right 所以返回right也是可以的\n",
    "\n",
    "#realize from book \"data struct\" of author 严蔚敏\n",
    "def quick_sort_standord(nums,left,right):\n",
    "    if left < right:\n",
    "        key_index = partion(nums,left,right)\n",
    "        quick_sort_standord(nums,left,key_index)\n",
    "        quick_sort_standord(nums,key_index+1,right)\n",
    "\n",
    "if __name__ == '__main__':\n",
    "    nums = [5, 6, 4, 2, 3,1,3,5,0,7,2]\n",
    "    quick_sort_standord(nums,0,len(nums)-1)\n",
    "    print(nums)"
   ]
  },
  {
   "cell_type": "code",
   "execution_count": 6,
   "metadata": {
    "collapsed": false
   },
   "outputs": [
    {
     "name": "stdout",
     "output_type": "stream",
     "text": [
      "[1, 1, 5, 7, 2, 2, 7, 8, 34]\n"
     ]
    }
   ],
   "source": [
    "#quick-sort-2,算法导论的快排实现\n",
    "def sort1(nums, left, right):\n",
    "    i = left - 1\n",
    "    key = nums[right]\n",
    "    for j in range(left, right):\n",
    "        if num[j] <= key:\n",
    "            i += 1\n",
    "            nums[i], nums[j] = nums[j],nums[i]\n",
    "    nums[i + 1], nums[right] = nums[right], nums[i + 1]\n",
    "    return i + 1 \n",
    "                \n",
    "        \n",
    "def sort2(nums, left, right):\n",
    "    if left < right:\n",
    "        key_index = sort1(nums, left, right)\n",
    "        sort1(nums, left, key_index - 1)\n",
    "        sort1(nums, key_index + 1, right)\n",
    "\n",
    "num = [1,2,34,5,7,8,2,1,7]\n",
    "sort2(num, 1, len(num) - 1)\n",
    "print(num)"
   ]
  },
  {
   "cell_type": "code",
   "execution_count": 1,
   "metadata": {
    "collapsed": false
   },
   "outputs": [
    {
     "name": "stdout",
     "output_type": "stream",
     "text": [
      "running time: bin_search 0.0\n",
      "929\n"
     ]
    }
   ],
   "source": [
    "import time \n",
    "def cal_time(func): #装饰器\n",
    "    def wrapper(*args, **kwargs):\n",
    "        t1 = time.time()\n",
    "        result = func(*args, **kwargs)\n",
    "        t2 = time.time()\n",
    "        print(\"running time:\",func.__name__, t2 - t1)\n",
    "        return result\n",
    "    return wrapper\n",
    "\n",
    "@cal_time\n",
    "def bin_search(data_set,val):\n",
    "    #low 和high代表下标 最小下标，最大下标\n",
    "    low=0\n",
    "    high=len(data_set)-1\n",
    "    while low <=high:# 只有当low小于High的时候证明中间有数\n",
    "        mid=(low+high)//2\n",
    "        if data_set[mid]==val:\n",
    "            return mid  #返回他的下标\n",
    "        elif data_set[mid]>val:\n",
    "            high=mid-1\n",
    "        else:\n",
    "            low=mid+1\n",
    "    return -1\n",
    "data_set = list(range(1000))\n",
    "print(bin_search(data_set, 929))"
   ]
  },
  {
   "cell_type": "code",
   "execution_count": 2,
   "metadata": {
    "collapsed": false
   },
   "outputs": [
    {
     "ename": "ImportError",
     "evalue": "No module named 'sklearn.model_selection'",
     "output_type": "error",
     "traceback": [
      "\u001b[0;31m---------------------------------------------------------------------------\u001b[0m",
      "\u001b[0;31mImportError\u001b[0m                               Traceback (most recent call last)",
      "\u001b[0;32m<ipython-input-2-ccda1c1b65d0>\u001b[0m in \u001b[0;36m<module>\u001b[0;34m()\u001b[0m\n\u001b[1;32m      1\u001b[0m \u001b[1;32mfrom\u001b[0m \u001b[0msklearn\u001b[0m\u001b[1;33m.\u001b[0m\u001b[0mensemble\u001b[0m \u001b[1;32mimport\u001b[0m \u001b[0mGradientBoostingClassifier\u001b[0m\u001b[1;33m\u001b[0m\u001b[0m\n\u001b[0;32m----> 2\u001b[0;31m \u001b[1;32mfrom\u001b[0m \u001b[0msklearn\u001b[0m\u001b[1;33m.\u001b[0m\u001b[0mmodel_selection\u001b[0m \u001b[1;32mimport\u001b[0m \u001b[0mGridSearchCV\u001b[0m\u001b[1;33m\u001b[0m\u001b[0m\n\u001b[0m\u001b[1;32m      3\u001b[0m \u001b[1;32mfrom\u001b[0m \u001b[0msklearn\u001b[0m\u001b[1;33m.\u001b[0m\u001b[0mmetrics\u001b[0m \u001b[1;32mimport\u001b[0m \u001b[0maccuracy_score\u001b[0m\u001b[1;33m\u001b[0m\u001b[0m\n\u001b[1;32m      4\u001b[0m \u001b[1;32mfrom\u001b[0m \u001b[0mtime\u001b[0m \u001b[1;32mimport\u001b[0m \u001b[0mtime\u001b[0m\u001b[1;33m\u001b[0m\u001b[0m\n\u001b[1;32m      5\u001b[0m \u001b[1;32mimport\u001b[0m \u001b[0mnumpy\u001b[0m \u001b[1;32mas\u001b[0m \u001b[0mnp\u001b[0m\u001b[1;33m\u001b[0m\u001b[0m\n",
      "\u001b[0;31mImportError\u001b[0m: No module named 'sklearn.model_selection'"
     ]
    }
   ],
   "source": [
    "from sklearn.ensemble import GradientBoostingClassifier\n",
    "from sklearn.model_selection import GridSearchCV\n",
    "from sklearn.metrics import accuracy_score\n",
    "from time import time\n",
    "import numpy as np\n",
    "import mnist\n",
    "import roc\n",
    "\n",
    "if __name__ == \"__main__\":\n",
    "    # 读取Mnist数据集, 测试GBDT的分类模型\n",
    "    mnistSet = mnist.loadLecunMnistSet()\n",
    "    train_X, train_Y, test_X, test_Y = mnistSet[0], mnistSet[1], mnistSet[2], mnistSet[3]\n",
    "\n",
    "    m, n = np.shape(train_X)\n",
    "    idx = range(m)\n",
    "    np.random.shuffle(idx)\n",
    "\n",
    "    print(\"\\n**********测试GradientBoostingClassifier类**********\")\n",
    "    t = time()\n",
    "    model = GradientBoostingClassifier(max_features=90, max_depth=40, min_samples_split=8, min_samples_leaf=3,\n",
    "                                       n_estimators=1200, learning_rate=0.05, subsample=0.95)\n",
    "    # 拟合训练数据集\n",
    "    model.fit(train_X, train_Y)\n",
    "    # 预测训练集\n",
    "    train_Y_hat = model.predict(train_X[idx])\n",
    "    print(\"训练集精确度: \", accuracy_score(train_Y[idx], train_Y_hat))\n",
    "    # 预测测试集\n",
    "    test_Y_hat = model.predict(test_X)\n",
    "    print(\"测试集精确度: \", accuracy_score(test_Y, test_Y_hat))\n",
    "    print(\"总耗时:\", time() - t, \"秒\")\n",
    "    # 绘制ROC曲线\n",
    "    n_class = len(np.unique(train_Y))\n",
    "    roc.drawROC(n_class, test_Y, test_Y_hat)"
   ]
  },
  {
   "cell_type": "code",
   "execution_count": 3,
   "metadata": {
    "collapsed": false
   },
   "outputs": [
    {
     "ename": "ImportError",
     "evalue": "No module named 'sklearn.model_selection'",
     "output_type": "error",
     "traceback": [
      "\u001b[0;31m---------------------------------------------------------------------------\u001b[0m",
      "\u001b[0;31mImportError\u001b[0m                               Traceback (most recent call last)",
      "\u001b[0;32m<ipython-input-3-7748d201c9c6>\u001b[0m in \u001b[0;36m<module>\u001b[0;34m()\u001b[0m\n\u001b[0;32m----> 1\u001b[0;31m \u001b[1;32mfrom\u001b[0m \u001b[0msklearn\u001b[0m\u001b[1;33m.\u001b[0m\u001b[0mmodel_selection\u001b[0m \u001b[1;32mimport\u001b[0m \u001b[0mKFold\u001b[0m\u001b[1;33m\u001b[0m\u001b[0m\n\u001b[0m",
      "\u001b[0;31mImportError\u001b[0m: No module named 'sklearn.model_selection'"
     ]
    }
   ],
   "source": [
    " from sklearn.model_selection import KFold"
   ]
  },
  {
   "cell_type": "code",
   "execution_count": null,
   "metadata": {
    "collapsed": true
   },
   "outputs": [],
   "source": []
  }
 ],
 "metadata": {
  "anaconda-cloud": {},
  "kernelspec": {
   "display_name": "Python [conda root]",
   "language": "python",
   "name": "conda-root-py"
  },
  "language_info": {
   "codemirror_mode": {
    "name": "ipython",
    "version": 3
   },
   "file_extension": ".py",
   "mimetype": "text/x-python",
   "name": "python",
   "nbconvert_exporter": "python",
   "pygments_lexer": "ipython3",
   "version": "3.5.2"
  }
 },
 "nbformat": 4,
 "nbformat_minor": 2
}
