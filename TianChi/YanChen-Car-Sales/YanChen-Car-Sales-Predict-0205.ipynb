{
 "cells": [
  {
   "cell_type": "code",
   "execution_count": 1,
   "metadata": {
    "collapsed": false
   },
   "outputs": [],
   "source": [
    "import numpy as np\n",
    "import pandas as pd\n",
    "from scipy import stats\n",
    "from collections import Counter\n",
    "import os, sys, time\n",
    "import matplotlib.pyplot as plt"
   ]
  },
  {
   "cell_type": "code",
   "execution_count": 20,
   "metadata": {
    "collapsed": false
   },
   "outputs": [
    {
     "name": "stderr",
     "output_type": "stream",
     "text": [
      "C:\\Users\\xiezhijun\\AppData\\Local\\Continuum\\Anaconda3\\lib\\site-packages\\IPython\\core\\interactiveshell.py:2717: DtypeWarning: Columns (15,20) have mixed types. Specify dtype option on import or set low_memory=False.\n",
      "  interactivity=interactivity, compiler=compiler, result=result)\n"
     ]
    },
    {
     "data": {
      "text/html": [
       "<div>\n",
       "<style scoped>\n",
       "    .dataframe tbody tr th:only-of-type {\n",
       "        vertical-align: middle;\n",
       "    }\n",
       "\n",
       "    .dataframe tbody tr th {\n",
       "        vertical-align: top;\n",
       "    }\n",
       "\n",
       "    .dataframe thead th {\n",
       "        text-align: right;\n",
       "    }\n",
       "</style>\n",
       "<table border=\"1\" class=\"dataframe\">\n",
       "  <thead>\n",
       "    <tr style=\"text-align: right;\">\n",
       "      <th></th>\n",
       "      <th>sale_date</th>\n",
       "      <th>class_id</th>\n",
       "      <th>sale_quantity</th>\n",
       "      <th>brand_id</th>\n",
       "      <th>compartment</th>\n",
       "      <th>type_id</th>\n",
       "      <th>level_id</th>\n",
       "      <th>department_id</th>\n",
       "      <th>TR</th>\n",
       "      <th>gearbox_type</th>\n",
       "      <th>...</th>\n",
       "      <th>engine_torque</th>\n",
       "      <th>car_length</th>\n",
       "      <th>car_width</th>\n",
       "      <th>car_height</th>\n",
       "      <th>total_quality</th>\n",
       "      <th>equipment_quality</th>\n",
       "      <th>rated_passenger</th>\n",
       "      <th>wheelbase</th>\n",
       "      <th>front_track</th>\n",
       "      <th>rear_track</th>\n",
       "    </tr>\n",
       "  </thead>\n",
       "  <tbody>\n",
       "    <tr>\n",
       "      <th>0</th>\n",
       "      <td>201609</td>\n",
       "      <td>289403</td>\n",
       "      <td>94</td>\n",
       "      <td>12</td>\n",
       "      <td>2</td>\n",
       "      <td>1</td>\n",
       "      <td>1</td>\n",
       "      <td>1</td>\n",
       "      <td>6</td>\n",
       "      <td>MT</td>\n",
       "      <td>...</td>\n",
       "      <td>170</td>\n",
       "      <td>4440</td>\n",
       "      <td>1833</td>\n",
       "      <td>1545</td>\n",
       "      <td>1695</td>\n",
       "      <td>1320</td>\n",
       "      <td>5</td>\n",
       "      <td>2700</td>\n",
       "      <td>1556</td>\n",
       "      <td>1562</td>\n",
       "    </tr>\n",
       "    <tr>\n",
       "      <th>1</th>\n",
       "      <td>201609</td>\n",
       "      <td>745137</td>\n",
       "      <td>435</td>\n",
       "      <td>637</td>\n",
       "      <td>3</td>\n",
       "      <td>2</td>\n",
       "      <td>1</td>\n",
       "      <td>2</td>\n",
       "      <td>6</td>\n",
       "      <td>DCT</td>\n",
       "      <td>...</td>\n",
       "      <td>159</td>\n",
       "      <td>4534</td>\n",
       "      <td>1823</td>\n",
       "      <td>1483</td>\n",
       "      <td>1711</td>\n",
       "      <td>1336</td>\n",
       "      <td>5</td>\n",
       "      <td>2648</td>\n",
       "      <td>1553</td>\n",
       "      <td>1544</td>\n",
       "    </tr>\n",
       "    <tr>\n",
       "      <th>2</th>\n",
       "      <td>201609</td>\n",
       "      <td>714860</td>\n",
       "      <td>180</td>\n",
       "      <td>831</td>\n",
       "      <td>3</td>\n",
       "      <td>2</td>\n",
       "      <td>2</td>\n",
       "      <td>3</td>\n",
       "      <td>6</td>\n",
       "      <td>AT</td>\n",
       "      <td>...</td>\n",
       "      <td>176</td>\n",
       "      <td>4720</td>\n",
       "      <td>1815</td>\n",
       "      <td>1465</td>\n",
       "      <td>1860</td>\n",
       "      <td>1459</td>\n",
       "      <td>5</td>\n",
       "      <td>2770</td>\n",
       "      <td>1579</td>\n",
       "      <td>1589</td>\n",
       "    </tr>\n",
       "    <tr>\n",
       "      <th>3</th>\n",
       "      <td>201609</td>\n",
       "      <td>175962</td>\n",
       "      <td>40</td>\n",
       "      <td>750</td>\n",
       "      <td>3</td>\n",
       "      <td>2</td>\n",
       "      <td>1</td>\n",
       "      <td>4</td>\n",
       "      <td>6</td>\n",
       "      <td>AT</td>\n",
       "      <td>...</td>\n",
       "      <td>155</td>\n",
       "      <td>4475</td>\n",
       "      <td>1706</td>\n",
       "      <td>1469</td>\n",
       "      <td>1625</td>\n",
       "      <td>1145</td>\n",
       "      <td>5</td>\n",
       "      <td>2603</td>\n",
       "      <td>1460</td>\n",
       "      <td>1500</td>\n",
       "    </tr>\n",
       "    <tr>\n",
       "      <th>4</th>\n",
       "      <td>201609</td>\n",
       "      <td>270690</td>\n",
       "      <td>19</td>\n",
       "      <td>98</td>\n",
       "      <td>2</td>\n",
       "      <td>3</td>\n",
       "      <td>3</td>\n",
       "      <td>1</td>\n",
       "      <td>5</td>\n",
       "      <td>MT</td>\n",
       "      <td>...</td>\n",
       "      <td>146.5</td>\n",
       "      <td>4415</td>\n",
       "      <td>1685</td>\n",
       "      <td>1850</td>\n",
       "      <td>1825</td>\n",
       "      <td>1236</td>\n",
       "      <td>5</td>\n",
       "      <td>2720</td>\n",
       "      <td>1420</td>\n",
       "      <td>1440</td>\n",
       "    </tr>\n",
       "  </tbody>\n",
       "</table>\n",
       "<p>5 rows × 32 columns</p>\n",
       "</div>"
      ],
      "text/plain": [
       "   sale_date  class_id  sale_quantity  brand_id  compartment  type_id  \\\n",
       "0     201609    289403             94        12            2        1   \n",
       "1     201609    745137            435       637            3        2   \n",
       "2     201609    714860            180       831            3        2   \n",
       "3     201609    175962             40       750            3        2   \n",
       "4     201609    270690             19        98            2        3   \n",
       "\n",
       "  level_id  department_id TR gearbox_type     ...      engine_torque  \\\n",
       "0        1              1  6           MT     ...                170   \n",
       "1        1              2  6          DCT     ...                159   \n",
       "2        2              3  6           AT     ...                176   \n",
       "3        1              4  6           AT     ...                155   \n",
       "4        3              1  5           MT     ...              146.5   \n",
       "\n",
       "  car_length car_width car_height  total_quality equipment_quality  \\\n",
       "0       4440      1833       1545           1695              1320   \n",
       "1       4534      1823       1483           1711              1336   \n",
       "2       4720      1815       1465           1860              1459   \n",
       "3       4475      1706       1469           1625              1145   \n",
       "4       4415      1685       1850           1825              1236   \n",
       "\n",
       "   rated_passenger  wheelbase  front_track  rear_track  \n",
       "0                5       2700         1556        1562  \n",
       "1                5       2648         1553        1544  \n",
       "2                5       2770         1579        1589  \n",
       "3                5       2603         1460        1500  \n",
       "4                5       2720         1420        1440  \n",
       "\n",
       "[5 rows x 32 columns]"
      ]
     },
     "execution_count": 20,
     "metadata": {},
     "output_type": "execute_result"
    }
   ],
   "source": [
    "df_train = pd.read_csv('[new] yancheng_train_20171226.csv',header = 0)\n",
    "df_test = pd.read_csv('yancheng_testA_20171225.csv',header = 0)\n",
    "df_train.head()"
   ]
  },
  {
   "cell_type": "code",
   "execution_count": 12,
   "metadata": {
    "collapsed": false
   },
   "outputs": [
    {
     "data": {
      "text/html": [
       "<div>\n",
       "<style scoped>\n",
       "    .dataframe tbody tr th:only-of-type {\n",
       "        vertical-align: middle;\n",
       "    }\n",
       "\n",
       "    .dataframe tbody tr th {\n",
       "        vertical-align: top;\n",
       "    }\n",
       "\n",
       "    .dataframe thead th {\n",
       "        text-align: right;\n",
       "    }\n",
       "</style>\n",
       "<table border=\"1\" class=\"dataframe\">\n",
       "  <thead>\n",
       "    <tr style=\"text-align: right;\">\n",
       "      <th></th>\n",
       "      <th>0</th>\n",
       "      <th>1</th>\n",
       "    </tr>\n",
       "  </thead>\n",
       "  <tbody>\n",
       "  </tbody>\n",
       "</table>\n",
       "</div>"
      ],
      "text/plain": [
       "Empty DataFrame\n",
       "Columns: [0, 1]\n",
       "Index: []"
      ]
     },
     "execution_count": 12,
     "metadata": {},
     "output_type": "execute_result"
    }
   ],
   "source": [
    "df_train['price_level'].str.extractall('(\\d){1，}-(\\d){1，}')\n",
    "# df_train['price_level'].head()"
   ]
  },
  {
   "cell_type": "code",
   "execution_count": 23,
   "metadata": {
    "collapsed": false
   },
   "outputs": [
    {
     "data": {
      "text/plain": [
       "0         [8, 10W]\n",
       "1        [10, 15W]\n",
       "2        [10, 15W]\n",
       "3        [10, 15W]\n",
       "4            [5WL]\n",
       "5        [15, 20W]\n",
       "6        [10, 15W]\n",
       "7          [5, 8W]\n",
       "8        [10, 15W]\n",
       "9        [25, 35W]\n",
       "10       [10, 15W]\n",
       "11       [10, 15W]\n",
       "12       [25, 35W]\n",
       "13       [35, 50W]\n",
       "14       [10, 15W]\n",
       "15       [10, 15W]\n",
       "16         [5, 8W]\n",
       "17       [10, 15W]\n",
       "18       [10, 15W]\n",
       "19       [10, 15W]\n",
       "20       [35, 50W]\n",
       "21       [10, 15W]\n",
       "22       [10, 15W]\n",
       "23       [25, 35W]\n",
       "24        [8, 10W]\n",
       "25       [10, 15W]\n",
       "26       [10, 15W]\n",
       "27       [10, 15W]\n",
       "28       [20, 25W]\n",
       "29       [10, 15W]\n",
       "           ...    \n",
       "20127    [20, 25W]\n",
       "20128    [10, 15W]\n",
       "20129    [15, 20W]\n",
       "20130    [10, 15W]\n",
       "20131    [10, 15W]\n",
       "20132    [20, 25W]\n",
       "20133    [15, 20W]\n",
       "20134     [8, 10W]\n",
       "20135    [10, 15W]\n",
       "20136    [15, 20W]\n",
       "20137    [10, 15W]\n",
       "20138      [5, 8W]\n",
       "20139    [10, 15W]\n",
       "20140    [10, 15W]\n",
       "20141    [10, 15W]\n",
       "20142    [35, 50W]\n",
       "20143    [35, 50W]\n",
       "20144    [25, 35W]\n",
       "20145     [8, 10W]\n",
       "20146    [10, 15W]\n",
       "20147    [10, 15W]\n",
       "20148    [15, 20W]\n",
       "20149    [10, 15W]\n",
       "20150    [20, 25W]\n",
       "20151    [10, 15W]\n",
       "20152    [10, 15W]\n",
       "20153    [10, 15W]\n",
       "20154    [15, 20W]\n",
       "20155    [15, 20W]\n",
       "20156     [8, 10W]\n",
       "Name: price_level, Length: 20157, dtype: object"
      ]
     },
     "execution_count": 23,
     "metadata": {},
     "output_type": "execute_result"
    }
   ],
   "source": [
    "df_train['price_level'].str.split('-')"
   ]
  },
  {
   "cell_type": "code",
   "execution_count": 32,
   "metadata": {
    "collapsed": false
   },
   "outputs": [
    {
     "data": {
      "text/plain": [
       "0        2W\n",
       "1      3_4W\n",
       "2     3_12W\n",
       "3    12_34W\n",
       "dtype: object"
      ]
     },
     "execution_count": 32,
     "metadata": {},
     "output_type": "execute_result"
    }
   ],
   "source": [
    "s = pd.Series(['2W', '3_4W','3_12W', '12_34W'])\n",
    "s"
   ]
  },
  {
   "cell_type": "code",
   "execution_count": null,
   "metadata": {
    "collapsed": true
   },
   "outputs": [],
   "source": [
    "s."
   ]
  },
  {
   "cell_type": "code",
   "execution_count": 34,
   "metadata": {
    "collapsed": false
   },
   "outputs": [
    {
     "data": {
      "text/plain": [
       "0         [2W]\n",
       "1      [3, 4W]\n",
       "2     [3, 12W]\n",
       "3    [12, 34W]\n",
       "dtype: object"
      ]
     },
     "execution_count": 34,
     "metadata": {},
     "output_type": "execute_result"
    }
   ],
   "source": [
    "s.str.split('_')"
   ]
  },
  {
   "cell_type": "code",
   "execution_count": null,
   "metadata": {
    "collapsed": true
   },
   "outputs": [],
   "source": []
  },
  {
   "cell_type": "code",
   "execution_count": 166,
   "metadata": {
    "collapsed": false
   },
   "outputs": [],
   "source": [
    "# for i in range(df_train['power'].shape[0]):\n",
    "#     if df_train['power'][i] == '81/70':\n",
    "#         print(i,df_train['power'][i])\n",
    "#         df_train['power'][i] = 75.5\n",
    "#     else:\n",
    "#         df_train['power'][i] = float(df_train['power'][i])"
   ]
  },
  {
   "cell_type": "code",
   "execution_count": 167,
   "metadata": {
    "collapsed": false
   },
   "outputs": [],
   "source": [
    "# for i in range(df_train['engine_torque'].shape[0]):\n",
    "#     if df_train['engine_torque'][i] == '155/140':\n",
    "#         print(i,df_train['engine_torque'][i])\n",
    "#         df_train['engine_torque'][i] = 147.5\n",
    "#     elif df_train['engine_torque'][i] == '-':\n",
    "#         print(i,df_train['engine_torque'][i])\n",
    "#         df_train['engine_torque'][i] = 0\n",
    "#     else:\n",
    "#         df_train['engine_torque'][i] = float(df_train['engine_torque'][i])"
   ]
  },
  {
   "cell_type": "code",
   "execution_count": null,
   "metadata": {
    "collapsed": true
   },
   "outputs": [],
   "source": [
    "df_train['TR'] = 'TR_' + df_train['TR'].astype(str)\n",
    "TRDummies = pd.get_dummies(df_train['TR'])\n",
    "df_train.drop('TR', 1, inplace=True)\n",
    "\n",
    "df_train['gearbox_type'] = 'gearbox_type_' + df_train['gearbox_type'].astype(str)\n",
    "TRDummies = pd.get_dummies(df_train['gearbox_type'])\n",
    "df_train.drop('gearbox_type', 1, inplace=True)\n",
    "\n",
    "df_train['if_charging'] = 'if_charging_' + df_train['if_charging'].astype(str)\n",
    "TRDummies = pd.get_dummies(df_train['if_charging'])\n",
    "df_train.drop('if_charging', 1, inplace=True)"
   ]
  },
  {
   "cell_type": "code",
   "execution_count": null,
   "metadata": {
    "collapsed": true
   },
   "outputs": [],
   "source": []
  },
  {
   "cell_type": "code",
   "execution_count": null,
   "metadata": {
    "collapsed": true
   },
   "outputs": [],
   "source": []
  },
  {
   "cell_type": "code",
   "execution_count": null,
   "metadata": {
    "collapsed": true
   },
   "outputs": [],
   "source": []
  }
 ],
 "metadata": {
  "anaconda-cloud": {},
  "kernelspec": {
   "display_name": "Python [conda root]",
   "language": "python",
   "name": "conda-root-py"
  },
  "language_info": {
   "codemirror_mode": {
    "name": "ipython",
    "version": 3
   },
   "file_extension": ".py",
   "mimetype": "text/x-python",
   "name": "python",
   "nbconvert_exporter": "python",
   "pygments_lexer": "ipython3",
   "version": "3.5.2"
  }
 },
 "nbformat": 4,
 "nbformat_minor": 2
}
