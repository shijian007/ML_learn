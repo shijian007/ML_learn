{
 "cells": [
  {
   "cell_type": "code",
   "execution_count": 7,
<<<<<<< HEAD
   "metadata": {
    "collapsed": true
   },
=======
   "metadata": {},
>>>>>>> 0013d58d39eb31805491e1f3edecc0b34ca2ecb2
   "outputs": [],
   "source": [
    "import numpy as np\n",
    "import pandas as pd\n",
    "from scipy import stats\n",
    "from collections import Counter\n",
    "import os, sys, time, re\n",
    "\n",
    "from sklearn.preprocessing import StandardScaler, LabelEncoder\n",
    "from sklearn.base import TransformerMixin\n",
    "from sklearn import cross_validation\n",
    "from matplotlib import pylab as plt"
   ]
  },
  {
   "cell_type": "markdown",
   "metadata": {},
   "source": [
    "训练集数据预处理"
   ]
  },
  {
   "cell_type": "code",
   "execution_count": 8,
<<<<<<< HEAD
   "metadata": {
    "collapsed": false
   },
=======
   "metadata": {},
>>>>>>> 0013d58d39eb31805491e1f3edecc0b34ca2ecb2
   "outputs": [
    {
     "name": "stderr",
     "output_type": "stream",
     "text": [
      "/Users/xiezhijun/anaconda3/lib/python3.6/site-packages/IPython/core/interactiveshell.py:2698: DtypeWarning: Columns (15,20) have mixed types. Specify dtype option on import or set low_memory=False.\n",
      "  interactivity=interactivity, compiler=compiler, result=result)\n"
     ]
    },
    {
     "data": {
      "text/html": [
       "<div>\n",
       "<style>\n",
       "    .dataframe thead tr:only-child th {\n",
       "        text-align: right;\n",
       "    }\n",
       "\n",
       "    .dataframe thead th {\n",
       "        text-align: left;\n",
       "    }\n",
       "\n",
       "    .dataframe tbody tr th {\n",
       "        vertical-align: top;\n",
       "    }\n",
       "</style>\n",
       "<table border=\"1\" class=\"dataframe\">\n",
       "  <thead>\n",
       "    <tr style=\"text-align: right;\">\n",
       "      <th></th>\n",
       "      <th>sale_date</th>\n",
       "      <th>class_id</th>\n",
       "      <th>sale_quantity</th>\n",
       "      <th>brand_id</th>\n",
       "      <th>compartment</th>\n",
       "      <th>type_id</th>\n",
       "      <th>level_id</th>\n",
       "      <th>department_id</th>\n",
       "      <th>TR</th>\n",
       "      <th>gearbox_type</th>\n",
       "      <th>...</th>\n",
       "      <th>engine_torque</th>\n",
       "      <th>car_length</th>\n",
       "      <th>car_width</th>\n",
       "      <th>car_height</th>\n",
       "      <th>total_quality</th>\n",
       "      <th>equipment_quality</th>\n",
       "      <th>rated_passenger</th>\n",
       "      <th>wheelbase</th>\n",
       "      <th>front_track</th>\n",
       "      <th>rear_track</th>\n",
       "    </tr>\n",
       "  </thead>\n",
       "  <tbody>\n",
       "    <tr>\n",
       "      <th>0</th>\n",
       "      <td>201609</td>\n",
       "      <td>289403</td>\n",
       "      <td>94</td>\n",
       "      <td>12</td>\n",
       "      <td>2</td>\n",
       "      <td>1</td>\n",
       "      <td>1</td>\n",
       "      <td>1</td>\n",
       "      <td>6</td>\n",
       "      <td>MT</td>\n",
       "      <td>...</td>\n",
       "      <td>170</td>\n",
       "      <td>4440</td>\n",
       "      <td>1833</td>\n",
       "      <td>1545</td>\n",
       "      <td>1695</td>\n",
       "      <td>1320</td>\n",
       "      <td>5</td>\n",
       "      <td>2700</td>\n",
       "      <td>1556</td>\n",
       "      <td>1562</td>\n",
       "    </tr>\n",
       "    <tr>\n",
       "      <th>1</th>\n",
       "      <td>201609</td>\n",
       "      <td>745137</td>\n",
       "      <td>435</td>\n",
       "      <td>637</td>\n",
       "      <td>3</td>\n",
       "      <td>2</td>\n",
       "      <td>1</td>\n",
       "      <td>2</td>\n",
       "      <td>6</td>\n",
       "      <td>DCT</td>\n",
       "      <td>...</td>\n",
       "      <td>159</td>\n",
       "      <td>4534</td>\n",
       "      <td>1823</td>\n",
       "      <td>1483</td>\n",
       "      <td>1711</td>\n",
       "      <td>1336</td>\n",
       "      <td>5</td>\n",
       "      <td>2648</td>\n",
       "      <td>1553</td>\n",
       "      <td>1544</td>\n",
       "    </tr>\n",
       "    <tr>\n",
       "      <th>2</th>\n",
       "      <td>201609</td>\n",
       "      <td>714860</td>\n",
       "      <td>180</td>\n",
       "      <td>831</td>\n",
       "      <td>3</td>\n",
       "      <td>2</td>\n",
       "      <td>2</td>\n",
       "      <td>3</td>\n",
       "      <td>6</td>\n",
       "      <td>AT</td>\n",
       "      <td>...</td>\n",
       "      <td>176</td>\n",
       "      <td>4720</td>\n",
       "      <td>1815</td>\n",
       "      <td>1465</td>\n",
       "      <td>1860</td>\n",
       "      <td>1459</td>\n",
       "      <td>5</td>\n",
       "      <td>2770</td>\n",
       "      <td>1579</td>\n",
       "      <td>1589</td>\n",
       "    </tr>\n",
       "    <tr>\n",
       "      <th>3</th>\n",
       "      <td>201609</td>\n",
       "      <td>175962</td>\n",
       "      <td>40</td>\n",
       "      <td>750</td>\n",
       "      <td>3</td>\n",
       "      <td>2</td>\n",
       "      <td>1</td>\n",
       "      <td>4</td>\n",
       "      <td>6</td>\n",
       "      <td>AT</td>\n",
       "      <td>...</td>\n",
       "      <td>155</td>\n",
       "      <td>4475</td>\n",
       "      <td>1706</td>\n",
       "      <td>1469</td>\n",
       "      <td>1625</td>\n",
       "      <td>1145</td>\n",
       "      <td>5</td>\n",
       "      <td>2603</td>\n",
       "      <td>1460</td>\n",
       "      <td>1500</td>\n",
       "    </tr>\n",
       "    <tr>\n",
       "      <th>4</th>\n",
       "      <td>201609</td>\n",
       "      <td>270690</td>\n",
       "      <td>19</td>\n",
       "      <td>98</td>\n",
       "      <td>2</td>\n",
       "      <td>3</td>\n",
       "      <td>3</td>\n",
       "      <td>1</td>\n",
       "      <td>5</td>\n",
       "      <td>MT</td>\n",
       "      <td>...</td>\n",
       "      <td>146.5</td>\n",
       "      <td>4415</td>\n",
       "      <td>1685</td>\n",
       "      <td>1850</td>\n",
       "      <td>1825</td>\n",
       "      <td>1236</td>\n",
       "      <td>5</td>\n",
       "      <td>2720</td>\n",
       "      <td>1420</td>\n",
       "      <td>1440</td>\n",
       "    </tr>\n",
       "  </tbody>\n",
       "</table>\n",
       "<p>5 rows × 32 columns</p>\n",
       "</div>"
      ],
      "text/plain": [
       "   sale_date  class_id  sale_quantity  brand_id  compartment  type_id  \\\n",
       "0     201609    289403             94        12            2        1   \n",
       "1     201609    745137            435       637            3        2   \n",
       "2     201609    714860            180       831            3        2   \n",
       "3     201609    175962             40       750            3        2   \n",
       "4     201609    270690             19        98            2        3   \n",
       "\n",
       "  level_id  department_id TR gearbox_type     ...      engine_torque  \\\n",
       "0        1              1  6           MT     ...                170   \n",
       "1        1              2  6          DCT     ...                159   \n",
       "2        2              3  6           AT     ...                176   \n",
       "3        1              4  6           AT     ...                155   \n",
       "4        3              1  5           MT     ...              146.5   \n",
       "\n",
       "  car_length car_width car_height  total_quality equipment_quality  \\\n",
       "0       4440      1833       1545           1695              1320   \n",
       "1       4534      1823       1483           1711              1336   \n",
       "2       4720      1815       1465           1860              1459   \n",
       "3       4475      1706       1469           1625              1145   \n",
       "4       4415      1685       1850           1825              1236   \n",
       "\n",
       "   rated_passenger  wheelbase  front_track  rear_track  \n",
       "0                5       2700         1556        1562  \n",
       "1                5       2648         1553        1544  \n",
       "2                5       2770         1579        1589  \n",
       "3                5       2603         1460        1500  \n",
       "4                5       2720         1420        1440  \n",
       "\n",
       "[5 rows x 32 columns]"
      ]
     },
     "execution_count": 8,
     "metadata": {},
     "output_type": "execute_result"
    }
   ],
   "source": [
    "df_train = pd.read_csv('[new] yancheng_train.csv',header = 0)\n",
    "df_train.head()"
   ]
  },
  {
   "cell_type": "code",
   "execution_count": 9,
<<<<<<< HEAD
   "metadata": {
    "collapsed": false
   },
=======
   "metadata": {},
>>>>>>> 0013d58d39eb31805491e1f3edecc0b34ca2ecb2
   "outputs": [
    {
     "ename": "NameError",
     "evalue": "name 'df_test' is not defined",
     "output_type": "error",
     "traceback": [
      "\u001b[0;31m---------------------------------------------------------------------------\u001b[0m",
      "\u001b[0;31mNameError\u001b[0m                                 Traceback (most recent call last)",
      "\u001b[0;32m<ipython-input-9-1a1491a073a9>\u001b[0m in \u001b[0;36m<module>\u001b[0;34m()\u001b[0m\n\u001b[0;32m----> 1\u001b[0;31m \u001b[0mprint\u001b[0m\u001b[0;34m(\u001b[0m\u001b[0mdf_train\u001b[0m\u001b[0;34m.\u001b[0m\u001b[0mshape\u001b[0m\u001b[0;34m,\u001b[0m \u001b[0mdf_test\u001b[0m\u001b[0;34m.\u001b[0m\u001b[0mshape\u001b[0m\u001b[0;34m)\u001b[0m\u001b[0;34m\u001b[0m\u001b[0m\n\u001b[0m",
      "\u001b[0;31mNameError\u001b[0m: name 'df_test' is not defined"
     ]
    }
   ],
   "source": [
    "print(df_train.shape, df_test.shape)"
   ]
  },
  {
   "cell_type": "code",
   "execution_count": 10,
<<<<<<< HEAD
   "metadata": {
    "collapsed": true
   },
=======
   "metadata": {},
>>>>>>> 0013d58d39eb31805491e1f3edecc0b34ca2ecb2
   "outputs": [],
   "source": [
    "# 'level_id'、'fuel_type_id'、'engine_torque'含有‘-’\n",
    "# 'power'含有‘81/70’\n",
    "# 'engine_torque'含有‘155/140’\n",
    "#  rated_passenger含有日期\n",
    "df_train.replace('-',0,inplace=True)\n",
    "df_train['power'].replace('81/70',75.5,inplace=True)\n",
    "df_train['engine_torque'].replace('155/140',147.5,inplace=True)\n",
    "df_train.replace('4-5',4.5,inplace=True)\n",
    "df_train.replace('5-7',6.0,inplace=True)\n",
    "df_train.replace('5-8',6.5,inplace=True)\n",
    "df_train.replace('6-7',6.5,inplace=True)\n",
    "df_train.replace('6-8',7.0,inplace=True)\n",
    "df_train.replace('7-8',7.5,inplace=True)"
   ]
  },
  {
   "cell_type": "code",
   "execution_count": 11,
<<<<<<< HEAD
   "metadata": {
    "collapsed": true
   },
=======
   "metadata": {},
>>>>>>> 0013d58d39eb31805491e1f3edecc0b34ca2ecb2
   "outputs": [],
   "source": [
    "df_train['TR'] = 'TR_' + df_train['TR'].astype(str)\n",
    "TRDummies = pd.get_dummies(df_train['TR'])\n",
    "df_train.drop('TR', 1, inplace=True)\n",
    "\n",
    "df_train['gearbox_type'] = 'gearbox_type_' + df_train['gearbox_type'].astype(str)\n",
    "gearbox_typeDummies = pd.get_dummies(df_train['gearbox_type'])\n",
    "df_train.drop('gearbox_type', 1, inplace=True)\n",
    "\n",
    "df_train['if_charging'] = 'if_charging_' + df_train['if_charging'].astype(str)\n",
    "if_chargingDummies = pd.get_dummies(df_train['if_charging'])\n",
    "df_train.drop('if_charging', 1, inplace=True)\n",
    "\n",
    "#处理price_level\n",
    "# df_train['price_level'] = df_train['price_level'].str.strip('W')\n",
    "# df_train['price_level'] = df_train['price_level'].str.strip('WL')\n",
    "# df_train['price_level']= df_train['price_level'].str.split('-')\n",
    "# for i in df_train['price_level']:\n",
    "#     i = list(map(int, i))\n",
    "#     i = list(map(lambda x: sum(x)/len(x), i))\n",
    "#     print(i)\n",
    "df_train['price_level'] = 'price_level_' + df_train['price_level'].astype(str)\n",
    "price_levelDummies = pd.get_dummies(df_train['price_level'])\n",
    "df_train.drop('price_level', 1, inplace=True)\n",
    "\n",
    "df_train['sale_date'] = df_train['sale_date'].astype(str)\n",
    "df_train['sale_date_year'] = pd.Series(list(map(lambda x: x[0:4], df_train['sale_date'])))\n",
    "df_train['sale_date_month'] = pd.Series(list(map(lambda x: x[4:6], df_train['sale_date'])))\n",
    "df_train.drop('sale_date', 1, inplace=True)\n",
    "# df_train['sale_date_year'] = 'sale_date_year_' + df_train['sale_date_year'].astype(str)\n",
    "# sale_date_yearDummies = pd.get_dummies(df_train['sale_date_year'])\n",
    "# df_train.drop('sale_date_year', 1, inplace=True)\n",
    "# df_train['sale_date_month'] = 'sale_date_month_' + df_train['sale_date_month'].astype(str)\n",
    "# sale_date_monthDummies = pd.get_dummies(df_train['sale_date_month'])\n",
    "# df_train.drop('sale_date_month', 1, inplace=True)\n",
    "\n",
    "df_train =pd.concat([df_train,TRDummies,gearbox_typeDummies,if_chargingDummies,price_levelDummies],join='outer', axis=1, ignore_index=False)\n",
    "\n",
    "df_train = df_train.astype(float)"
   ]
  },
  {
   "cell_type": "code",
   "execution_count": 12,
<<<<<<< HEAD
   "metadata": {
    "collapsed": false
   },
=======
   "metadata": {},
>>>>>>> 0013d58d39eb31805491e1f3edecc0b34ca2ecb2
   "outputs": [
    {
     "data": {
      "text/plain": [
       "0    2016.0\n",
       "1    2016.0\n",
       "2    2016.0\n",
       "3    2016.0\n",
       "4    2016.0\n",
       "Name: sale_date_year, dtype: float64"
      ]
     },
     "execution_count": 12,
     "metadata": {},
     "output_type": "execute_result"
    }
   ],
   "source": [
    "df_train['sale_date_year'].head()"
   ]
  },
  {
   "cell_type": "code",
   "execution_count": 13,
<<<<<<< HEAD
   "metadata": {
    "collapsed": false
   },
=======
   "metadata": {},
>>>>>>> 0013d58d39eb31805491e1f3edecc0b34ca2ecb2
   "outputs": [
    {
     "data": {
      "text/plain": [
       "<pandas.core.groupby.SeriesGroupBy object at 0x1089e0400>"
      ]
     },
     "execution_count": 13,
     "metadata": {},
     "output_type": "execute_result"
    }
   ],
   "source": [
    "df_train.groupby('class_id')['sale_quantity']"
   ]
  },
  {
   "cell_type": "code",
   "execution_count": 14,
<<<<<<< HEAD
   "metadata": {
    "collapsed": false
   },
=======
   "metadata": {},
>>>>>>> 0013d58d39eb31805491e1f3edecc0b34ca2ecb2
   "outputs": [
    {
     "data": {
      "text/html": [
       "<div>\n",
       "<style>\n",
       "    .dataframe thead tr:only-child th {\n",
       "        text-align: right;\n",
       "    }\n",
       "\n",
       "    .dataframe thead th {\n",
       "        text-align: left;\n",
       "    }\n",
       "\n",
       "    .dataframe tbody tr th {\n",
       "        vertical-align: top;\n",
       "    }\n",
       "</style>\n",
       "<table border=\"1\" class=\"dataframe\">\n",
       "  <thead>\n",
       "    <tr style=\"text-align: right;\">\n",
       "      <th></th>\n",
       "      <th>class_id</th>\n",
       "      <th>sale_quantity</th>\n",
       "      <th>brand_id</th>\n",
       "      <th>compartment</th>\n",
       "      <th>type_id</th>\n",
       "      <th>level_id</th>\n",
       "      <th>department_id</th>\n",
       "      <th>displacement</th>\n",
       "      <th>price</th>\n",
       "      <th>driven_type_id</th>\n",
       "      <th>...</th>\n",
       "      <th>if_charging_T</th>\n",
       "      <th>price_level_10-15W</th>\n",
       "      <th>price_level_15-20W</th>\n",
       "      <th>price_level_20-25W</th>\n",
       "      <th>price_level_25-35W</th>\n",
       "      <th>price_level_35-50W</th>\n",
       "      <th>price_level_5-8W</th>\n",
       "      <th>price_level_50-75W</th>\n",
       "      <th>price_level_5WL</th>\n",
       "      <th>price_level_8-10W</th>\n",
       "    </tr>\n",
       "  </thead>\n",
       "  <tbody>\n",
       "    <tr>\n",
       "      <th>0</th>\n",
       "      <td>289403.0</td>\n",
       "      <td>94.0</td>\n",
       "      <td>12.0</td>\n",
       "      <td>2.0</td>\n",
       "      <td>1.0</td>\n",
       "      <td>1.0</td>\n",
       "      <td>1.0</td>\n",
       "      <td>1.8</td>\n",
       "      <td>9.5</td>\n",
       "      <td>1.0</td>\n",
       "      <td>...</td>\n",
       "      <td>0.0</td>\n",
       "      <td>0.0</td>\n",
       "      <td>0.0</td>\n",
       "      <td>0.0</td>\n",
       "      <td>0.0</td>\n",
       "      <td>0.0</td>\n",
       "      <td>0.0</td>\n",
       "      <td>0.0</td>\n",
       "      <td>0.0</td>\n",
       "      <td>1.0</td>\n",
       "    </tr>\n",
       "    <tr>\n",
       "      <th>1</th>\n",
       "      <td>745137.0</td>\n",
       "      <td>435.0</td>\n",
       "      <td>637.0</td>\n",
       "      <td>3.0</td>\n",
       "      <td>2.0</td>\n",
       "      <td>1.0</td>\n",
       "      <td>2.0</td>\n",
       "      <td>1.6</td>\n",
       "      <td>13.2</td>\n",
       "      <td>1.0</td>\n",
       "      <td>...</td>\n",
       "      <td>0.0</td>\n",
       "      <td>1.0</td>\n",
       "      <td>0.0</td>\n",
       "      <td>0.0</td>\n",
       "      <td>0.0</td>\n",
       "      <td>0.0</td>\n",
       "      <td>0.0</td>\n",
       "      <td>0.0</td>\n",
       "      <td>0.0</td>\n",
       "      <td>0.0</td>\n",
       "    </tr>\n",
       "    <tr>\n",
       "      <th>2</th>\n",
       "      <td>714860.0</td>\n",
       "      <td>180.0</td>\n",
       "      <td>831.0</td>\n",
       "      <td>3.0</td>\n",
       "      <td>2.0</td>\n",
       "      <td>2.0</td>\n",
       "      <td>3.0</td>\n",
       "      <td>1.8</td>\n",
       "      <td>14.4</td>\n",
       "      <td>1.0</td>\n",
       "      <td>...</td>\n",
       "      <td>0.0</td>\n",
       "      <td>1.0</td>\n",
       "      <td>0.0</td>\n",
       "      <td>0.0</td>\n",
       "      <td>0.0</td>\n",
       "      <td>0.0</td>\n",
       "      <td>0.0</td>\n",
       "      <td>0.0</td>\n",
       "      <td>0.0</td>\n",
       "      <td>0.0</td>\n",
       "    </tr>\n",
       "    <tr>\n",
       "      <th>3</th>\n",
       "      <td>175962.0</td>\n",
       "      <td>40.0</td>\n",
       "      <td>750.0</td>\n",
       "      <td>3.0</td>\n",
       "      <td>2.0</td>\n",
       "      <td>1.0</td>\n",
       "      <td>4.0</td>\n",
       "      <td>1.6</td>\n",
       "      <td>8.6</td>\n",
       "      <td>1.0</td>\n",
       "      <td>...</td>\n",
       "      <td>0.0</td>\n",
       "      <td>1.0</td>\n",
       "      <td>0.0</td>\n",
       "      <td>0.0</td>\n",
       "      <td>0.0</td>\n",
       "      <td>0.0</td>\n",
       "      <td>0.0</td>\n",
       "      <td>0.0</td>\n",
       "      <td>0.0</td>\n",
       "      <td>0.0</td>\n",
       "    </tr>\n",
       "    <tr>\n",
       "      <th>4</th>\n",
       "      <td>270690.0</td>\n",
       "      <td>19.0</td>\n",
       "      <td>98.0</td>\n",
       "      <td>2.0</td>\n",
       "      <td>3.0</td>\n",
       "      <td>3.0</td>\n",
       "      <td>1.0</td>\n",
       "      <td>1.5</td>\n",
       "      <td>0.0</td>\n",
       "      <td>2.0</td>\n",
       "      <td>...</td>\n",
       "      <td>0.0</td>\n",
       "      <td>0.0</td>\n",
       "      <td>0.0</td>\n",
       "      <td>0.0</td>\n",
       "      <td>0.0</td>\n",
       "      <td>0.0</td>\n",
       "      <td>0.0</td>\n",
       "      <td>0.0</td>\n",
       "      <td>1.0</td>\n",
       "      <td>0.0</td>\n",
       "    </tr>\n",
       "  </tbody>\n",
       "</table>\n",
       "<p>5 rows × 57 columns</p>\n",
       "</div>"
      ],
      "text/plain": [
       "   class_id  sale_quantity  brand_id  compartment  type_id  level_id  \\\n",
       "0  289403.0           94.0      12.0          2.0      1.0       1.0   \n",
       "1  745137.0          435.0     637.0          3.0      2.0       1.0   \n",
       "2  714860.0          180.0     831.0          3.0      2.0       2.0   \n",
       "3  175962.0           40.0     750.0          3.0      2.0       1.0   \n",
       "4  270690.0           19.0      98.0          2.0      3.0       3.0   \n",
       "\n",
       "   department_id  displacement  price  driven_type_id        ...          \\\n",
       "0            1.0           1.8    9.5             1.0        ...           \n",
       "1            2.0           1.6   13.2             1.0        ...           \n",
       "2            3.0           1.8   14.4             1.0        ...           \n",
       "3            4.0           1.6    8.6             1.0        ...           \n",
       "4            1.0           1.5    0.0             2.0        ...           \n",
       "\n",
       "   if_charging_T  price_level_10-15W  price_level_15-20W  price_level_20-25W  \\\n",
       "0            0.0                 0.0                 0.0                 0.0   \n",
       "1            0.0                 1.0                 0.0                 0.0   \n",
       "2            0.0                 1.0                 0.0                 0.0   \n",
       "3            0.0                 1.0                 0.0                 0.0   \n",
       "4            0.0                 0.0                 0.0                 0.0   \n",
       "\n",
       "   price_level_25-35W  price_level_35-50W  price_level_5-8W  \\\n",
       "0                 0.0                 0.0               0.0   \n",
       "1                 0.0                 0.0               0.0   \n",
       "2                 0.0                 0.0               0.0   \n",
       "3                 0.0                 0.0               0.0   \n",
       "4                 0.0                 0.0               0.0   \n",
       "\n",
       "   price_level_50-75W  price_level_5WL  price_level_8-10W  \n",
       "0                 0.0              0.0                1.0  \n",
       "1                 0.0              0.0                0.0  \n",
       "2                 0.0              0.0                0.0  \n",
       "3                 0.0              0.0                0.0  \n",
       "4                 0.0              1.0                0.0  \n",
       "\n",
       "[5 rows x 57 columns]"
      ]
     },
     "execution_count": 14,
     "metadata": {},
     "output_type": "execute_result"
    }
   ],
   "source": [
    "df_train.fillna(0,inplace = True)\n",
    "df_train.head()"
   ]
  },
  {
   "cell_type": "code",
   "execution_count": 15,
<<<<<<< HEAD
   "metadata": {
    "collapsed": false
   },
=======
   "metadata": {},
>>>>>>> 0013d58d39eb31805491e1f3edecc0b34ca2ecb2
   "outputs": [
    {
     "data": {
      "text/plain": [
       "54"
      ]
     },
     "execution_count": 15,
     "metadata": {},
     "output_type": "execute_result"
    }
   ],
   "source": [
    "featrue = [x for x in df_train.columns if x not in ['sale_quantity','sale_date_year','sale_date_month']]\n",
    "len(featrue)"
   ]
  },
  {
   "cell_type": "code",
   "execution_count": 16,
<<<<<<< HEAD
   "metadata": {
    "collapsed": false
   },
=======
   "metadata": {},
>>>>>>> 0013d58d39eb31805491e1f3edecc0b34ca2ecb2
   "outputs": [
    {
     "name": "stdout",
     "output_type": "stream",
     "text": [
      "X_train Shape: (15117, 56)\n",
      "y_train Shape: (15117,)\n"
     ]
    }
   ],
   "source": [
    "X = df_train.drop('sale_quantity',1)\n",
    "y = df_train['sale_quantity']\n",
    "X_train, X_test, y_train, y_test = cross_validation.train_test_split(X, y, test_size=0.25)\n",
    "print('X_train Shape: ' + str(X_train.shape)) \n",
    "print('y_train Shape: ' + str(y_train.shape))"
   ]
  },
  {
   "cell_type": "code",
   "execution_count": 17,
<<<<<<< HEAD
   "metadata": {
    "collapsed": true
   },
=======
   "metadata": {},
>>>>>>> 0013d58d39eb31805491e1f3edecc0b34ca2ecb2
   "outputs": [],
   "source": [
    "from sklearn.preprocessing import StandardScaler\n",
    "\n",
    "XTrainScaler = StandardScaler().fit(X_train)  \n",
    "\n",
    "X_train = XTrainScaler.transform(X_train)\n",
    "X_test = XTrainScaler.transform(X_test)\n",
    "\n",
    "y_train = np.array(y_train)\n",
    "y_test = np.array(y_test)\n",
    "y_train = np.log(y_train) \n",
    "y_test = np.log(y_test) "
   ]
  },
  {
   "cell_type": "code",
   "execution_count": 18,
<<<<<<< HEAD
   "metadata": {
    "collapsed": false
   },
=======
   "metadata": {},
>>>>>>> 0013d58d39eb31805491e1f3edecc0b34ca2ecb2
   "outputs": [
    {
     "data": {
      "text/plain": [
       "(15117,)"
      ]
     },
     "execution_count": 18,
     "metadata": {},
     "output_type": "execute_result"
    }
   ],
   "source": [
    "y_train.shape"
   ]
  },
  {
   "cell_type": "code",
   "execution_count": 19,
   "metadata": {
    "collapsed": true
   },
   "outputs": [],
   "source": [
    "from sklearn.cross_validation import cross_val_score\n",
    "from sklearn.cross_validation import KFold\n",
    "\n",
    "def trainEval(clf, X_train, y_train):    \n",
    "    clf.fit(X_train, y_train)\n",
    "    print(\"Coefficient of determination on training set:\", clf.score(X_train, y_train))\n",
    "    scores = cross_val_score(clf, X_train, y_train, n_jobs =-1) #cv=cv\n",
    "    print(\"Average coefficient of determination using 3-fold crossvalidation:\",np.mean(scores))\n",
    "    test_scores = cross_val_score(clf, X_test, y_test, n_jobs =-1) #cv=cv\n",
    "    print(\"Score clf on X_test/y_test:\", np.mean(test_scores))"
   ]
  },
  {
   "cell_type": "code",
   "execution_count": 20,
<<<<<<< HEAD
   "metadata": {
    "collapsed": false
   },
=======
   "metadata": {},
>>>>>>> 0013d58d39eb31805491e1f3edecc0b34ca2ecb2
   "outputs": [
    {
     "name": "stderr",
     "output_type": "stream",
     "text": [
      "/Users/xiezhijun/anaconda3/lib/python3.6/site-packages/sklearn/linear_model/stochastic_gradient.py:128: FutureWarning: max_iter and tol parameters have been added in <class 'sklearn.linear_model.stochastic_gradient.SGDRegressor'> in 0.19. If both are left unset, they default to max_iter=5 and tol=None. If tol is not None, max_iter defaults to max_iter=1000. From 0.21, default max_iter will be 1000, and default tol will be 1e-3.\n",
      "  \"and default tol will be 1e-3.\" % type(self), FutureWarning)\n"
     ]
    },
    {
     "name": "stdout",
     "output_type": "stream",
     "text": [
      "Coefficient of determination on training set: 0.195292048265\n",
      "Average coefficient of determination using 3-fold crossvalidation: 0.192275141054\n"
     ]
    },
    {
     "name": "stderr",
     "output_type": "stream",
     "text": [
      "/Users/xiezhijun/anaconda3/lib/python3.6/site-packages/sklearn/linear_model/stochastic_gradient.py:128: FutureWarning: max_iter and tol parameters have been added in <class 'sklearn.linear_model.stochastic_gradient.SGDRegressor'> in 0.19. If both are left unset, they default to max_iter=5 and tol=None. If tol is not None, max_iter defaults to max_iter=1000. From 0.21, default max_iter will be 1000, and default tol will be 1e-3.\n",
      "  \"and default tol will be 1e-3.\" % type(self), FutureWarning)\n",
      "/Users/xiezhijun/anaconda3/lib/python3.6/site-packages/sklearn/linear_model/stochastic_gradient.py:128: FutureWarning: max_iter and tol parameters have been added in <class 'sklearn.linear_model.stochastic_gradient.SGDRegressor'> in 0.19. If both are left unset, they default to max_iter=5 and tol=None. If tol is not None, max_iter defaults to max_iter=1000. From 0.21, default max_iter will be 1000, and default tol will be 1e-3.\n",
      "  \"and default tol will be 1e-3.\" % type(self), FutureWarning)\n",
      "/Users/xiezhijun/anaconda3/lib/python3.6/site-packages/sklearn/linear_model/stochastic_gradient.py:128: FutureWarning: max_iter and tol parameters have been added in <class 'sklearn.linear_model.stochastic_gradient.SGDRegressor'> in 0.19. If both are left unset, they default to max_iter=5 and tol=None. If tol is not None, max_iter defaults to max_iter=1000. From 0.21, default max_iter will be 1000, and default tol will be 1e-3.\n",
      "  \"and default tol will be 1e-3.\" % type(self), FutureWarning)\n"
     ]
    },
    {
     "name": "stdout",
     "output_type": "stream",
     "text": [
      "Score clf on X_test/y_test: 0.0856995577405\n"
     ]
    }
   ],
   "source": [
    "from sklearn import linear_model\n",
    "clf_sgd = linear_model.SGDRegressor(verbose=0,loss='squared_loss', penalty=None, shuffle=True, random_state=None)\n",
    "trainEval(clf_sgd,X_train,y_train)"
   ]
  },
  {
   "cell_type": "code",
   "execution_count": 21,
<<<<<<< HEAD
   "metadata": {
    "collapsed": false
   },
=======
   "metadata": {},
>>>>>>> 0013d58d39eb31805491e1f3edecc0b34ca2ecb2
   "outputs": [
    {
     "name": "stdout",
     "output_type": "stream",
     "text": [
      "Coefficient of determination on training set: 0.205315650847\n"
     ]
    },
    {
     "name": "stderr",
     "output_type": "stream",
     "text": [
      "/Users/xiezhijun/anaconda3/lib/python3.6/site-packages/sklearn/linear_model/stochastic_gradient.py:128: FutureWarning: max_iter and tol parameters have been added in <class 'sklearn.linear_model.stochastic_gradient.SGDRegressor'> in 0.19. If both are left unset, they default to max_iter=5 and tol=None. If tol is not None, max_iter defaults to max_iter=1000. From 0.21, default max_iter will be 1000, and default tol will be 1e-3.\n",
      "  \"and default tol will be 1e-3.\" % type(self), FutureWarning)\n"
     ]
    },
    {
     "name": "stdout",
     "output_type": "stream",
     "text": [
      "Average coefficient of determination using 3-fold crossvalidation: 0.190657885861\n"
     ]
    },
    {
     "name": "stderr",
     "output_type": "stream",
     "text": [
      "/Users/xiezhijun/anaconda3/lib/python3.6/site-packages/sklearn/linear_model/stochastic_gradient.py:128: FutureWarning: max_iter and tol parameters have been added in <class 'sklearn.linear_model.stochastic_gradient.SGDRegressor'> in 0.19. If both are left unset, they default to max_iter=5 and tol=None. If tol is not None, max_iter defaults to max_iter=1000. From 0.21, default max_iter will be 1000, and default tol will be 1e-3.\n",
      "  \"and default tol will be 1e-3.\" % type(self), FutureWarning)\n",
      "/Users/xiezhijun/anaconda3/lib/python3.6/site-packages/sklearn/linear_model/stochastic_gradient.py:128: FutureWarning: max_iter and tol parameters have been added in <class 'sklearn.linear_model.stochastic_gradient.SGDRegressor'> in 0.19. If both are left unset, they default to max_iter=5 and tol=None. If tol is not None, max_iter defaults to max_iter=1000. From 0.21, default max_iter will be 1000, and default tol will be 1e-3.\n",
      "  \"and default tol will be 1e-3.\" % type(self), FutureWarning)\n",
      "/Users/xiezhijun/anaconda3/lib/python3.6/site-packages/sklearn/linear_model/stochastic_gradient.py:128: FutureWarning: max_iter and tol parameters have been added in <class 'sklearn.linear_model.stochastic_gradient.SGDRegressor'> in 0.19. If both are left unset, they default to max_iter=5 and tol=None. If tol is not None, max_iter defaults to max_iter=1000. From 0.21, default max_iter will be 1000, and default tol will be 1e-3.\n",
      "  \"and default tol will be 1e-3.\" % type(self), FutureWarning)\n"
     ]
    },
    {
     "name": "stdout",
     "output_type": "stream",
     "text": [
      "Score clf on X_test/y_test: 0.0748037335103\n"
     ]
    }
   ],
   "source": [
    "clf_sgd1 = linear_model.SGDRegressor(loss='squared_loss', penalty='l2', shuffle=True, random_state=None)\n",
    "trainEval(clf_sgd1,X_train,y_train)"
   ]
  },
  {
   "cell_type": "code",
   "execution_count": 22,
<<<<<<< HEAD
   "metadata": {
    "collapsed": false
   },
=======
   "metadata": {},
>>>>>>> 0013d58d39eb31805491e1f3edecc0b34ca2ecb2
   "outputs": [
    {
     "name": "stdout",
     "output_type": "stream",
     "text": [
      "Coefficient of determination on training set: 0.214832704333\n",
      "Average coefficient of determination using 3-fold crossvalidation: 0.207750967301\n",
      "Score clf on X_test/y_test: 0.201891180872\n"
     ]
    }
   ],
   "source": [
    "clf_ridge = linear_model.Ridge()\n",
    "trainEval(clf_ridge,X_train,y_train)"
   ]
  },
  {
   "cell_type": "markdown",
   "metadata": {},
   "source": [
    "测试集数据预处理"
   ]
  },
  {
   "cell_type": "code",
   "execution_count": 92,
<<<<<<< HEAD
   "metadata": {
    "collapsed": false
   },
=======
   "metadata": {},
>>>>>>> 0013d58d39eb31805491e1f3edecc0b34ca2ecb2
   "outputs": [
    {
     "data": {
      "text/html": [
       "<div>\n",
       "<style>\n",
       "    .dataframe thead tr:only-child th {\n",
       "        text-align: right;\n",
       "    }\n",
       "\n",
       "    .dataframe thead th {\n",
       "        text-align: left;\n",
       "    }\n",
       "\n",
       "    .dataframe tbody tr th {\n",
       "        vertical-align: top;\n",
       "    }\n",
       "</style>\n",
       "<table border=\"1\" class=\"dataframe\">\n",
       "  <thead>\n",
       "    <tr style=\"text-align: right;\">\n",
       "      <th></th>\n",
       "      <th>predict_date</th>\n",
       "      <th>class_id</th>\n",
       "      <th>predict_quantity</th>\n",
       "    </tr>\n",
       "  </thead>\n",
       "  <tbody>\n",
       "    <tr>\n",
       "      <th>0</th>\n",
       "      <td>201711</td>\n",
       "      <td>103507</td>\n",
       "      <td>NaN</td>\n",
       "    </tr>\n",
       "    <tr>\n",
       "      <th>1</th>\n",
       "      <td>201711</td>\n",
       "      <td>124140</td>\n",
       "      <td>NaN</td>\n",
       "    </tr>\n",
       "    <tr>\n",
       "      <th>2</th>\n",
       "      <td>201711</td>\n",
       "      <td>125403</td>\n",
       "      <td>NaN</td>\n",
       "    </tr>\n",
       "    <tr>\n",
       "      <th>3</th>\n",
       "      <td>201711</td>\n",
       "      <td>136916</td>\n",
       "      <td>NaN</td>\n",
       "    </tr>\n",
       "    <tr>\n",
       "      <th>4</th>\n",
       "      <td>201711</td>\n",
       "      <td>169673</td>\n",
       "      <td>NaN</td>\n",
       "    </tr>\n",
       "  </tbody>\n",
       "</table>\n",
       "</div>"
      ],
      "text/plain": [
       "   predict_date  class_id  predict_quantity\n",
       "0        201711    103507               NaN\n",
       "1        201711    124140               NaN\n",
       "2        201711    125403               NaN\n",
       "3        201711    136916               NaN\n",
       "4        201711    169673               NaN"
      ]
     },
     "execution_count": 92,
     "metadata": {},
     "output_type": "execute_result"
    }
   ],
   "source": [
    "df_test = pd.read_csv('yancheng_testA.csv',header = 0)\n",
    "df_test.head()"
   ]
  },
  {
   "cell_type": "code",
   "execution_count": 93,
<<<<<<< HEAD
   "metadata": {
    "collapsed": false
   },
=======
   "metadata": {},
>>>>>>> 0013d58d39eb31805491e1f3edecc0b34ca2ecb2
   "outputs": [
    {
     "data": {
      "text/html": [
       "<div>\n",
       "<style>\n",
       "    .dataframe thead tr:only-child th {\n",
       "        text-align: right;\n",
       "    }\n",
       "\n",
       "    .dataframe thead th {\n",
       "        text-align: left;\n",
       "    }\n",
       "\n",
       "    .dataframe tbody tr th {\n",
       "        vertical-align: top;\n",
       "    }\n",
       "</style>\n",
       "<table border=\"1\" class=\"dataframe\">\n",
       "  <thead>\n",
       "    <tr style=\"text-align: right;\">\n",
       "      <th></th>\n",
       "      <th>class_id</th>\n",
       "      <th>sale_quantity</th>\n",
       "      <th>sale_date_year</th>\n",
       "      <th>sale_date_month</th>\n",
       "    </tr>\n",
       "  </thead>\n",
       "  <tbody>\n",
       "    <tr>\n",
       "      <th>0</th>\n",
       "      <td>103507.0</td>\n",
       "      <td>NaN</td>\n",
       "      <td>2017.0</td>\n",
       "      <td>11.0</td>\n",
       "    </tr>\n",
       "    <tr>\n",
       "      <th>1</th>\n",
       "      <td>124140.0</td>\n",
       "      <td>NaN</td>\n",
       "      <td>2017.0</td>\n",
       "      <td>11.0</td>\n",
       "    </tr>\n",
       "    <tr>\n",
       "      <th>2</th>\n",
       "      <td>125403.0</td>\n",
       "      <td>NaN</td>\n",
       "      <td>2017.0</td>\n",
       "      <td>11.0</td>\n",
       "    </tr>\n",
       "    <tr>\n",
       "      <th>3</th>\n",
       "      <td>136916.0</td>\n",
       "      <td>NaN</td>\n",
       "      <td>2017.0</td>\n",
       "      <td>11.0</td>\n",
       "    </tr>\n",
       "    <tr>\n",
       "      <th>4</th>\n",
       "      <td>169673.0</td>\n",
       "      <td>NaN</td>\n",
       "      <td>2017.0</td>\n",
       "      <td>11.0</td>\n",
       "    </tr>\n",
       "  </tbody>\n",
       "</table>\n",
       "</div>"
      ],
      "text/plain": [
       "   class_id  sale_quantity  sale_date_year  sale_date_month\n",
       "0  103507.0            NaN          2017.0             11.0\n",
       "1  124140.0            NaN          2017.0             11.0\n",
       "2  125403.0            NaN          2017.0             11.0\n",
       "3  136916.0            NaN          2017.0             11.0\n",
       "4  169673.0            NaN          2017.0             11.0"
      ]
     },
     "execution_count": 93,
     "metadata": {},
     "output_type": "execute_result"
    }
   ],
   "source": [
    "#处理column\n",
    "df_test['sale_date'] = df_test['predict_date']\n",
    "df_test['sale_quantity'] = df_test['predict_quantity']\n",
    "df_test.drop('predict_quantity',1,inplace = True)\n",
    "df_test.drop('predict_date',1,inplace = True)\n",
    "\n",
    "#One-hot\n",
    "#sale_date\n",
    "df_test['sale_date'] = df_test['sale_date'].astype(str)\n",
    "df_test['sale_date_year'] = pd.Series(list(map(lambda x: x[0:4], df_test['sale_date'])))\n",
    "df_test['sale_date_month'] = pd.Series(list(map(lambda x: x[4:6], df_test['sale_date'])))\n",
    "df_test.drop('sale_date', 1, inplace=True)\n",
    "# df_test['sale_date_year'] = 'sale_date_year_' + df_test['sale_date_year'].astype(str)\n",
    "# sale_date_yearDummies = pd.get_dummies(df_test['sale_date_year'])\n",
    "# df_test.drop('sale_date_year', 1, inplace=True)\n",
    "# df_test['sale_date_month'] = 'sale_date_month_' + df_test['sale_date_month'].astype(str)\n",
    "# sale_date_monthDummies = pd.get_dummies(df_test['sale_date_month'])\n",
    "# df_test.drop('sale_date_month', 1, inplace=True)\n",
    "\n",
    "df_test = df_test.astype(float)\n",
    "df_test.head()"
   ]
  },
  {
   "cell_type": "code",
   "execution_count": 94,
   "metadata": {
<<<<<<< HEAD
    "collapsed": false,
=======
>>>>>>> 0013d58d39eb31805491e1f3edecc0b34ca2ecb2
    "scrolled": true
   },
   "outputs": [
    {
     "data": {
      "text/plain": [
       "(140, 3)"
      ]
     },
     "execution_count": 94,
     "metadata": {},
     "output_type": "execute_result"
    }
   ],
   "source": [
    "to_predict = df_test.drop('sale_quantity', 1)\n",
    "to_predict.shape"
   ]
  },
  {
   "cell_type": "code",
   "execution_count": 95,
   "metadata": {
<<<<<<< HEAD
    "collapsed": false,
=======
>>>>>>> 0013d58d39eb31805491e1f3edecc0b34ca2ecb2
    "scrolled": false
   },
   "outputs": [
    {
     "data": {
      "text/plain": [
       "(20157, 54)"
      ]
     },
     "execution_count": 95,
     "metadata": {},
     "output_type": "execute_result"
    }
   ],
   "source": [
    "df_train[featrue].shape"
   ]
  },
  {
   "cell_type": "code",
   "execution_count": 96,
   "metadata": {
<<<<<<< HEAD
    "collapsed": false,
=======
>>>>>>> 0013d58d39eb31805491e1f3edecc0b34ca2ecb2
    "scrolled": false
   },
   "outputs": [
    {
     "data": {
      "text/plain": [
       "<pandas.core.groupby.DataFrameGroupBy object at 0x1a0eff0550>"
      ]
     },
     "execution_count": 96,
     "metadata": {},
     "output_type": "execute_result"
    }
   ],
   "source": [
    "to_predict = pd.merge(to_predict,df_train[featrue], how = 'inner', on = 'class_id')\n",
    "to_predict.groupby('class_id')"
   ]
  },
  {
   "cell_type": "code",
   "execution_count": 97,
<<<<<<< HEAD
   "metadata": {
    "collapsed": false
   },
=======
   "metadata": {},
>>>>>>> 0013d58d39eb31805491e1f3edecc0b34ca2ecb2
   "outputs": [
    {
     "data": {
      "text/plain": [
       "(20157, 56)"
      ]
     },
     "execution_count": 97,
     "metadata": {},
     "output_type": "execute_result"
    }
   ],
   "source": [
    "to_predict.shape"
   ]
  },
  {
   "cell_type": "code",
   "execution_count": 98,
   "metadata": {
<<<<<<< HEAD
    "collapsed": true,
=======
>>>>>>> 0013d58d39eb31805491e1f3edecc0b34ca2ecb2
    "scrolled": false
   },
   "outputs": [],
   "source": [
    "# subResults = pd.DataFrame(clf_ridge.predict(to_predict), columns = ['sale_quantity'])\n",
    "to_predict['predict_quantity'] = clf_ridge.predict(to_predict)"
   ]
  },
  {
   "cell_type": "code",
   "execution_count": 107,
<<<<<<< HEAD
   "metadata": {
    "collapsed": true
   },
=======
   "metadata": {},
>>>>>>> 0013d58d39eb31805491e1f3edecc0b34ca2ecb2
   "outputs": [],
   "source": [
    "data = to_predict.groupby('class_id').mean()\n",
    "sale_predict = data['predict_quantity']"
   ]
  },
  {
   "cell_type": "code",
   "execution_count": 112,
<<<<<<< HEAD
   "metadata": {
    "collapsed": false
   },
=======
   "metadata": {},
>>>>>>> 0013d58d39eb31805491e1f3edecc0b34ca2ecb2
   "outputs": [
    {
     "data": {
      "text/html": [
       "<div>\n",
       "<style>\n",
       "    .dataframe thead tr:only-child th {\n",
       "        text-align: right;\n",
       "    }\n",
       "\n",
       "    .dataframe thead th {\n",
       "        text-align: left;\n",
       "    }\n",
       "\n",
       "    .dataframe tbody tr th {\n",
       "        vertical-align: top;\n",
       "    }\n",
       "</style>\n",
       "<table border=\"1\" class=\"dataframe\">\n",
       "  <thead>\n",
       "    <tr style=\"text-align: right;\">\n",
       "      <th></th>\n",
       "      <th>count</th>\n",
       "      <th>mean</th>\n",
       "      <th>std</th>\n",
       "      <th>min</th>\n",
       "      <th>25%</th>\n",
       "      <th>50%</th>\n",
       "      <th>75%</th>\n",
       "      <th>max</th>\n",
       "    </tr>\n",
       "    <tr>\n",
       "      <th>class_id</th>\n",
       "      <th></th>\n",
       "      <th></th>\n",
       "      <th></th>\n",
       "      <th></th>\n",
       "      <th></th>\n",
       "      <th></th>\n",
       "      <th></th>\n",
       "      <th></th>\n",
       "    </tr>\n",
       "  </thead>\n",
       "  <tbody>\n",
       "    <tr>\n",
       "      <th>103507.0</th>\n",
       "      <td>129.0</td>\n",
       "      <td>211.490356</td>\n",
       "      <td>15.047678</td>\n",
       "      <td>190.584344</td>\n",
       "      <td>195.131695</td>\n",
       "      <td>222.925876</td>\n",
       "      <td>223.546599</td>\n",
       "      <td>229.629626</td>\n",
       "    </tr>\n",
       "    <tr>\n",
       "      <th>124140.0</th>\n",
       "      <td>131.0</td>\n",
       "      <td>266.226780</td>\n",
       "      <td>5.764617</td>\n",
       "      <td>243.597071</td>\n",
       "      <td>265.517376</td>\n",
       "      <td>266.943469</td>\n",
       "      <td>269.469531</td>\n",
       "      <td>270.423105</td>\n",
       "    </tr>\n",
       "    <tr>\n",
       "      <th>125403.0</th>\n",
       "      <td>255.0</td>\n",
       "      <td>272.630909</td>\n",
       "      <td>9.304762</td>\n",
       "      <td>246.544069</td>\n",
       "      <td>266.796339</td>\n",
       "      <td>277.143354</td>\n",
       "      <td>279.968717</td>\n",
       "      <td>281.044861</td>\n",
       "    </tr>\n",
       "    <tr>\n",
       "      <th>136916.0</th>\n",
       "      <td>346.0</td>\n",
       "      <td>432.500053</td>\n",
       "      <td>9.667149</td>\n",
       "      <td>400.035378</td>\n",
       "      <td>426.073675</td>\n",
       "      <td>436.292937</td>\n",
       "      <td>438.269117</td>\n",
       "      <td>446.015477</td>\n",
       "    </tr>\n",
       "    <tr>\n",
       "      <th>169673.0</th>\n",
       "      <td>5.0</td>\n",
       "      <td>411.753850</td>\n",
       "      <td>0.394184</td>\n",
       "      <td>411.322043</td>\n",
       "      <td>411.322043</td>\n",
       "      <td>412.041721</td>\n",
       "      <td>412.041721</td>\n",
       "      <td>412.041721</td>\n",
       "    </tr>\n",
       "    <tr>\n",
       "      <th>175962.0</th>\n",
       "      <td>248.0</td>\n",
       "      <td>483.910155</td>\n",
       "      <td>3.934202</td>\n",
       "      <td>455.881691</td>\n",
       "      <td>480.636461</td>\n",
       "      <td>485.671383</td>\n",
       "      <td>486.697154</td>\n",
       "      <td>487.660275</td>\n",
       "    </tr>\n",
       "    <tr>\n",
       "      <th>178529.0</th>\n",
       "      <td>298.0</td>\n",
       "      <td>488.990450</td>\n",
       "      <td>11.619110</td>\n",
       "      <td>468.481769</td>\n",
       "      <td>471.750199</td>\n",
       "      <td>494.165366</td>\n",
       "      <td>497.185188</td>\n",
       "      <td>507.042476</td>\n",
       "    </tr>\n",
       "    <tr>\n",
       "      <th>186250.0</th>\n",
       "      <td>21.0</td>\n",
       "      <td>449.057822</td>\n",
       "      <td>0.080880</td>\n",
       "      <td>448.916885</td>\n",
       "      <td>448.988853</td>\n",
       "      <td>449.060821</td>\n",
       "      <td>449.114796</td>\n",
       "      <td>449.186764</td>\n",
       "    </tr>\n",
       "    <tr>\n",
       "      <th>194201.0</th>\n",
       "      <td>2.0</td>\n",
       "      <td>474.396485</td>\n",
       "      <td>0.000000</td>\n",
       "      <td>474.396485</td>\n",
       "      <td>474.396485</td>\n",
       "      <td>474.396485</td>\n",
       "      <td>474.396485</td>\n",
       "      <td>474.396485</td>\n",
       "    </tr>\n",
       "    <tr>\n",
       "      <th>194450.0</th>\n",
       "      <td>168.0</td>\n",
       "      <td>429.835548</td>\n",
       "      <td>14.132497</td>\n",
       "      <td>404.285615</td>\n",
       "      <td>417.967833</td>\n",
       "      <td>421.213537</td>\n",
       "      <td>441.424935</td>\n",
       "      <td>463.359907</td>\n",
       "    </tr>\n",
       "    <tr>\n",
       "      <th>198427.0</th>\n",
       "      <td>77.0</td>\n",
       "      <td>634.723971</td>\n",
       "      <td>5.338467</td>\n",
       "      <td>621.450127</td>\n",
       "      <td>629.591354</td>\n",
       "      <td>638.269503</td>\n",
       "      <td>640.738286</td>\n",
       "      <td>641.141057</td>\n",
       "    </tr>\n",
       "    <tr>\n",
       "      <th>206765.0</th>\n",
       "      <td>90.0</td>\n",
       "      <td>557.597374</td>\n",
       "      <td>7.470789</td>\n",
       "      <td>544.956429</td>\n",
       "      <td>551.714571</td>\n",
       "      <td>560.840341</td>\n",
       "      <td>566.265832</td>\n",
       "      <td>566.837648</td>\n",
       "    </tr>\n",
       "    <tr>\n",
       "      <th>209945.0</th>\n",
       "      <td>304.0</td>\n",
       "      <td>463.434170</td>\n",
       "      <td>6.859044</td>\n",
       "      <td>447.060823</td>\n",
       "      <td>457.246264</td>\n",
       "      <td>464.399241</td>\n",
       "      <td>466.647471</td>\n",
       "      <td>484.291930</td>\n",
       "    </tr>\n",
       "    <tr>\n",
       "      <th>219195.0</th>\n",
       "      <td>118.0</td>\n",
       "      <td>519.599389</td>\n",
       "      <td>3.367958</td>\n",
       "      <td>508.715216</td>\n",
       "      <td>516.922879</td>\n",
       "      <td>519.879079</td>\n",
       "      <td>522.700986</td>\n",
       "      <td>523.903820</td>\n",
       "    </tr>\n",
       "    <tr>\n",
       "      <th>221795.0</th>\n",
       "      <td>170.0</td>\n",
       "      <td>484.622734</td>\n",
       "      <td>11.712850</td>\n",
       "      <td>464.414153</td>\n",
       "      <td>473.369717</td>\n",
       "      <td>489.590049</td>\n",
       "      <td>494.722668</td>\n",
       "      <td>501.250801</td>\n",
       "    </tr>\n",
       "    <tr>\n",
       "      <th>245609.0</th>\n",
       "      <td>58.0</td>\n",
       "      <td>571.289940</td>\n",
       "      <td>12.747937</td>\n",
       "      <td>560.653950</td>\n",
       "      <td>561.159974</td>\n",
       "      <td>562.004439</td>\n",
       "      <td>587.267443</td>\n",
       "      <td>593.570391</td>\n",
       "    </tr>\n",
       "    <tr>\n",
       "      <th>248352.0</th>\n",
       "      <td>472.0</td>\n",
       "      <td>645.605095</td>\n",
       "      <td>24.183439</td>\n",
       "      <td>612.722087</td>\n",
       "      <td>614.975417</td>\n",
       "      <td>662.786280</td>\n",
       "      <td>664.037122</td>\n",
       "      <td>671.710666</td>\n",
       "    </tr>\n",
       "    <tr>\n",
       "      <th>249875.0</th>\n",
       "      <td>45.0</td>\n",
       "      <td>673.155269</td>\n",
       "      <td>6.237397</td>\n",
       "      <td>663.281904</td>\n",
       "      <td>666.380448</td>\n",
       "      <td>675.137484</td>\n",
       "      <td>677.684163</td>\n",
       "      <td>683.344486</td>\n",
       "    </tr>\n",
       "    <tr>\n",
       "      <th>250658.0</th>\n",
       "      <td>30.0</td>\n",
       "      <td>697.584755</td>\n",
       "      <td>0.489787</td>\n",
       "      <td>695.553194</td>\n",
       "      <td>697.392321</td>\n",
       "      <td>697.680704</td>\n",
       "      <td>697.915623</td>\n",
       "      <td>698.106989</td>\n",
       "    </tr>\n",
       "    <tr>\n",
       "      <th>265980.0</th>\n",
       "      <td>161.0</td>\n",
       "      <td>637.079485</td>\n",
       "      <td>6.863871</td>\n",
       "      <td>629.228252</td>\n",
       "      <td>631.374675</td>\n",
       "      <td>631.374675</td>\n",
       "      <td>645.542226</td>\n",
       "      <td>648.862095</td>\n",
       "    </tr>\n",
       "    <tr>\n",
       "      <th>270690.0</th>\n",
       "      <td>110.0</td>\n",
       "      <td>754.015636</td>\n",
       "      <td>2.752712</td>\n",
       "      <td>750.444342</td>\n",
       "      <td>750.750666</td>\n",
       "      <td>755.066837</td>\n",
       "      <td>755.373161</td>\n",
       "      <td>759.799652</td>\n",
       "    </tr>\n",
       "    <tr>\n",
       "      <th>281301.0</th>\n",
       "      <td>328.0</td>\n",
       "      <td>723.361681</td>\n",
       "      <td>6.776634</td>\n",
       "      <td>704.932006</td>\n",
       "      <td>720.719336</td>\n",
       "      <td>724.990919</td>\n",
       "      <td>726.542169</td>\n",
       "      <td>732.842394</td>\n",
       "    </tr>\n",
       "    <tr>\n",
       "      <th>281792.0</th>\n",
       "      <td>115.0</td>\n",
       "      <td>672.871865</td>\n",
       "      <td>15.091487</td>\n",
       "      <td>646.627064</td>\n",
       "      <td>663.720354</td>\n",
       "      <td>665.906146</td>\n",
       "      <td>691.270887</td>\n",
       "      <td>695.527878</td>\n",
       "    </tr>\n",
       "    <tr>\n",
       "      <th>289386.0</th>\n",
       "      <td>171.0</td>\n",
       "      <td>739.943191</td>\n",
       "      <td>14.804005</td>\n",
       "      <td>716.203232</td>\n",
       "      <td>721.197475</td>\n",
       "      <td>744.139056</td>\n",
       "      <td>751.515280</td>\n",
       "      <td>755.797944</td>\n",
       "    </tr>\n",
       "    <tr>\n",
       "      <th>289403.0</th>\n",
       "      <td>60.0</td>\n",
       "      <td>793.208112</td>\n",
       "      <td>6.906648</td>\n",
       "      <td>784.327273</td>\n",
       "      <td>784.639883</td>\n",
       "      <td>791.067624</td>\n",
       "      <td>796.299028</td>\n",
       "      <td>803.083272</td>\n",
       "    </tr>\n",
       "    <tr>\n",
       "      <th>290854.0</th>\n",
       "      <td>380.0</td>\n",
       "      <td>756.493945</td>\n",
       "      <td>8.835204</td>\n",
       "      <td>732.392311</td>\n",
       "      <td>749.033741</td>\n",
       "      <td>760.110631</td>\n",
       "      <td>764.172511</td>\n",
       "      <td>768.147182</td>\n",
       "    </tr>\n",
       "    <tr>\n",
       "      <th>291086.0</th>\n",
       "      <td>248.0</td>\n",
       "      <td>744.485404</td>\n",
       "      <td>6.785509</td>\n",
       "      <td>729.285438</td>\n",
       "      <td>743.456813</td>\n",
       "      <td>746.985314</td>\n",
       "      <td>748.154605</td>\n",
       "      <td>759.702897</td>\n",
       "    </tr>\n",
       "    <tr>\n",
       "      <th>291514.0</th>\n",
       "      <td>147.0</td>\n",
       "      <td>702.709048</td>\n",
       "      <td>2.307244</td>\n",
       "      <td>696.319345</td>\n",
       "      <td>700.916248</td>\n",
       "      <td>703.842134</td>\n",
       "      <td>704.651772</td>\n",
       "      <td>706.007389</td>\n",
       "    </tr>\n",
       "    <tr>\n",
       "      <th>302513.0</th>\n",
       "      <td>33.0</td>\n",
       "      <td>742.304881</td>\n",
       "      <td>5.497324</td>\n",
       "      <td>735.129013</td>\n",
       "      <td>737.252971</td>\n",
       "      <td>740.775441</td>\n",
       "      <td>749.143156</td>\n",
       "      <td>749.341067</td>\n",
       "    </tr>\n",
       "    <tr>\n",
       "      <th>304458.0</th>\n",
       "      <td>347.0</td>\n",
       "      <td>879.998305</td>\n",
       "      <td>9.816099</td>\n",
       "      <td>849.710256</td>\n",
       "      <td>875.940168</td>\n",
       "      <td>881.503768</td>\n",
       "      <td>885.965347</td>\n",
       "      <td>893.862462</td>\n",
       "    </tr>\n",
       "    <tr>\n",
       "      <th>...</th>\n",
       "      <td>...</td>\n",
       "      <td>...</td>\n",
       "      <td>...</td>\n",
       "      <td>...</td>\n",
       "      <td>...</td>\n",
       "      <td>...</td>\n",
       "      <td>...</td>\n",
       "      <td>...</td>\n",
       "    </tr>\n",
       "    <tr>\n",
       "      <th>745137.0</th>\n",
       "      <td>451.0</td>\n",
       "      <td>1928.348617</td>\n",
       "      <td>17.217236</td>\n",
       "      <td>1902.830845</td>\n",
       "      <td>1912.736265</td>\n",
       "      <td>1922.146646</td>\n",
       "      <td>1945.280662</td>\n",
       "      <td>1954.159662</td>\n",
       "    </tr>\n",
       "    <tr>\n",
       "      <th>750340.0</th>\n",
       "      <td>51.0</td>\n",
       "      <td>1885.497155</td>\n",
       "      <td>5.182116</td>\n",
       "      <td>1879.846623</td>\n",
       "      <td>1879.981563</td>\n",
       "      <td>1890.063721</td>\n",
       "      <td>1890.198661</td>\n",
       "      <td>1891.323158</td>\n",
       "    </tr>\n",
       "    <tr>\n",
       "      <th>760412.0</th>\n",
       "      <td>25.0</td>\n",
       "      <td>2003.782587</td>\n",
       "      <td>11.364328</td>\n",
       "      <td>1989.871296</td>\n",
       "      <td>1992.723257</td>\n",
       "      <td>1999.264038</td>\n",
       "      <td>2018.712860</td>\n",
       "      <td>2019.477518</td>\n",
       "    </tr>\n",
       "    <tr>\n",
       "      <th>786351.0</th>\n",
       "      <td>206.0</td>\n",
       "      <td>2045.163921</td>\n",
       "      <td>3.034089</td>\n",
       "      <td>2040.630956</td>\n",
       "      <td>2042.372289</td>\n",
       "      <td>2043.307870</td>\n",
       "      <td>2048.052269</td>\n",
       "      <td>2048.902389</td>\n",
       "    </tr>\n",
       "    <tr>\n",
       "      <th>789290.0</th>\n",
       "      <td>17.0</td>\n",
       "      <td>2171.868816</td>\n",
       "      <td>5.672067</td>\n",
       "      <td>2164.956537</td>\n",
       "      <td>2169.437004</td>\n",
       "      <td>2169.526964</td>\n",
       "      <td>2173.790401</td>\n",
       "      <td>2180.892885</td>\n",
       "    </tr>\n",
       "    <tr>\n",
       "      <th>810398.0</th>\n",
       "      <td>46.0</td>\n",
       "      <td>2097.059864</td>\n",
       "      <td>5.390293</td>\n",
       "      <td>2079.241922</td>\n",
       "      <td>2096.151689</td>\n",
       "      <td>2096.387834</td>\n",
       "      <td>2101.890317</td>\n",
       "      <td>2102.245658</td>\n",
       "    </tr>\n",
       "    <tr>\n",
       "      <th>815230.0</th>\n",
       "      <td>14.0</td>\n",
       "      <td>2140.196325</td>\n",
       "      <td>15.441458</td>\n",
       "      <td>2116.121856</td>\n",
       "      <td>2124.938571</td>\n",
       "      <td>2149.544539</td>\n",
       "      <td>2149.740201</td>\n",
       "      <td>2149.823414</td>\n",
       "    </tr>\n",
       "    <tr>\n",
       "      <th>819061.0</th>\n",
       "      <td>258.0</td>\n",
       "      <td>2090.930033</td>\n",
       "      <td>11.209825</td>\n",
       "      <td>2068.379041</td>\n",
       "      <td>2080.290346</td>\n",
       "      <td>2093.589040</td>\n",
       "      <td>2100.519965</td>\n",
       "      <td>2107.932320</td>\n",
       "    </tr>\n",
       "    <tr>\n",
       "      <th>842246.0</th>\n",
       "      <td>5.0</td>\n",
       "      <td>2180.526272</td>\n",
       "      <td>0.076174</td>\n",
       "      <td>2180.407525</td>\n",
       "      <td>2180.506481</td>\n",
       "      <td>2180.533468</td>\n",
       "      <td>2180.587444</td>\n",
       "      <td>2180.596440</td>\n",
       "    </tr>\n",
       "    <tr>\n",
       "      <th>851857.0</th>\n",
       "      <td>38.0</td>\n",
       "      <td>2208.376966</td>\n",
       "      <td>4.467023</td>\n",
       "      <td>2203.076265</td>\n",
       "      <td>2204.101807</td>\n",
       "      <td>2208.052883</td>\n",
       "      <td>2212.921549</td>\n",
       "      <td>2213.452312</td>\n",
       "    </tr>\n",
       "    <tr>\n",
       "      <th>854079.0</th>\n",
       "      <td>142.0</td>\n",
       "      <td>2280.687016</td>\n",
       "      <td>2.960659</td>\n",
       "      <td>2276.599693</td>\n",
       "      <td>2277.868126</td>\n",
       "      <td>2280.565150</td>\n",
       "      <td>2283.946095</td>\n",
       "      <td>2284.991864</td>\n",
       "    </tr>\n",
       "    <tr>\n",
       "      <th>854548.0</th>\n",
       "      <td>19.0</td>\n",
       "      <td>2277.508150</td>\n",
       "      <td>7.385666</td>\n",
       "      <td>2267.980736</td>\n",
       "      <td>2272.232027</td>\n",
       "      <td>2276.483317</td>\n",
       "      <td>2286.814105</td>\n",
       "      <td>2286.814105</td>\n",
       "    </tr>\n",
       "    <tr>\n",
       "      <th>861459.0</th>\n",
       "      <td>15.0</td>\n",
       "      <td>2289.184521</td>\n",
       "      <td>2.210102</td>\n",
       "      <td>2287.436177</td>\n",
       "      <td>2287.647583</td>\n",
       "      <td>2287.876980</td>\n",
       "      <td>2289.294866</td>\n",
       "      <td>2293.318817</td>\n",
       "    </tr>\n",
       "    <tr>\n",
       "      <th>871642.0</th>\n",
       "      <td>167.0</td>\n",
       "      <td>2205.758944</td>\n",
       "      <td>14.037211</td>\n",
       "      <td>2190.252840</td>\n",
       "      <td>2192.645770</td>\n",
       "      <td>2198.577522</td>\n",
       "      <td>2220.219265</td>\n",
       "      <td>2233.445152</td>\n",
       "    </tr>\n",
       "    <tr>\n",
       "      <th>872180.0</th>\n",
       "      <td>6.0</td>\n",
       "      <td>2210.576204</td>\n",
       "      <td>1.636463</td>\n",
       "      <td>2208.450117</td>\n",
       "      <td>2209.260894</td>\n",
       "      <td>2211.625754</td>\n",
       "      <td>2211.639248</td>\n",
       "      <td>2211.639248</td>\n",
       "    </tr>\n",
       "    <tr>\n",
       "      <th>883691.0</th>\n",
       "      <td>201.0</td>\n",
       "      <td>2282.117523</td>\n",
       "      <td>5.837511</td>\n",
       "      <td>2268.448410</td>\n",
       "      <td>2278.884500</td>\n",
       "      <td>2281.214103</td>\n",
       "      <td>2287.992519</td>\n",
       "      <td>2290.205765</td>\n",
       "    </tr>\n",
       "    <tr>\n",
       "      <th>890189.0</th>\n",
       "      <td>19.0</td>\n",
       "      <td>2345.163579</td>\n",
       "      <td>0.758706</td>\n",
       "      <td>2344.215190</td>\n",
       "      <td>2344.437705</td>\n",
       "      <td>2345.749369</td>\n",
       "      <td>2345.807843</td>\n",
       "      <td>2346.370092</td>\n",
       "    </tr>\n",
       "    <tr>\n",
       "      <th>905061.0</th>\n",
       "      <td>6.0</td>\n",
       "      <td>2353.207536</td>\n",
       "      <td>3.940987</td>\n",
       "      <td>2350.371887</td>\n",
       "      <td>2350.522570</td>\n",
       "      <td>2350.907148</td>\n",
       "      <td>2356.430490</td>\n",
       "      <td>2358.393050</td>\n",
       "    </tr>\n",
       "    <tr>\n",
       "      <th>905745.0</th>\n",
       "      <td>159.0</td>\n",
       "      <td>2305.237364</td>\n",
       "      <td>5.674543</td>\n",
       "      <td>2288.547483</td>\n",
       "      <td>2303.115217</td>\n",
       "      <td>2307.041087</td>\n",
       "      <td>2308.313493</td>\n",
       "      <td>2312.313867</td>\n",
       "    </tr>\n",
       "    <tr>\n",
       "      <th>914348.0</th>\n",
       "      <td>423.0</td>\n",
       "      <td>2343.616978</td>\n",
       "      <td>10.588719</td>\n",
       "      <td>2318.144267</td>\n",
       "      <td>2339.372781</td>\n",
       "      <td>2342.485073</td>\n",
       "      <td>2346.558883</td>\n",
       "      <td>2379.363340</td>\n",
       "    </tr>\n",
       "    <tr>\n",
       "      <th>923841.0</th>\n",
       "      <td>208.0</td>\n",
       "      <td>2443.033806</td>\n",
       "      <td>2.679480</td>\n",
       "      <td>2438.719008</td>\n",
       "      <td>2440.928357</td>\n",
       "      <td>2442.389599</td>\n",
       "      <td>2445.111128</td>\n",
       "      <td>2451.096134</td>\n",
       "    </tr>\n",
       "    <tr>\n",
       "      <th>924154.0</th>\n",
       "      <td>67.0</td>\n",
       "      <td>2424.089365</td>\n",
       "      <td>3.789672</td>\n",
       "      <td>2419.994193</td>\n",
       "      <td>2420.291060</td>\n",
       "      <td>2427.519834</td>\n",
       "      <td>2427.812203</td>\n",
       "      <td>2427.978629</td>\n",
       "    </tr>\n",
       "    <tr>\n",
       "      <th>948936.0</th>\n",
       "      <td>13.0</td>\n",
       "      <td>2457.170789</td>\n",
       "      <td>0.021366</td>\n",
       "      <td>2457.136189</td>\n",
       "      <td>2457.163177</td>\n",
       "      <td>2457.172173</td>\n",
       "      <td>2457.190165</td>\n",
       "      <td>2457.199161</td>\n",
       "    </tr>\n",
       "    <tr>\n",
       "      <th>950264.0</th>\n",
       "      <td>54.0</td>\n",
       "      <td>2443.503039</td>\n",
       "      <td>15.612345</td>\n",
       "      <td>2419.801959</td>\n",
       "      <td>2435.528223</td>\n",
       "      <td>2453.585002</td>\n",
       "      <td>2457.716610</td>\n",
       "      <td>2459.711409</td>\n",
       "    </tr>\n",
       "    <tr>\n",
       "      <th>953842.0</th>\n",
       "      <td>50.0</td>\n",
       "      <td>2421.662518</td>\n",
       "      <td>13.006706</td>\n",
       "      <td>2398.101380</td>\n",
       "      <td>2415.735894</td>\n",
       "      <td>2416.028264</td>\n",
       "      <td>2435.872131</td>\n",
       "      <td>2436.805356</td>\n",
       "    </tr>\n",
       "    <tr>\n",
       "      <th>961362.0</th>\n",
       "      <td>238.0</td>\n",
       "      <td>2462.113088</td>\n",
       "      <td>7.154446</td>\n",
       "      <td>2437.360831</td>\n",
       "      <td>2458.296703</td>\n",
       "      <td>2462.399822</td>\n",
       "      <td>2466.245450</td>\n",
       "      <td>2474.685255</td>\n",
       "    </tr>\n",
       "    <tr>\n",
       "      <th>961962.0</th>\n",
       "      <td>222.0</td>\n",
       "      <td>2536.325135</td>\n",
       "      <td>7.683055</td>\n",
       "      <td>2512.142878</td>\n",
       "      <td>2532.045857</td>\n",
       "      <td>2536.345912</td>\n",
       "      <td>2537.919288</td>\n",
       "      <td>2555.298555</td>\n",
       "    </tr>\n",
       "    <tr>\n",
       "      <th>963845.0</th>\n",
       "      <td>99.0</td>\n",
       "      <td>2460.711019</td>\n",
       "      <td>6.331324</td>\n",
       "      <td>2437.911843</td>\n",
       "      <td>2458.568196</td>\n",
       "      <td>2458.991007</td>\n",
       "      <td>2464.796058</td>\n",
       "      <td>2469.980387</td>\n",
       "    </tr>\n",
       "    <tr>\n",
       "      <th>973106.0</th>\n",
       "      <td>32.0</td>\n",
       "      <td>2490.727132</td>\n",
       "      <td>11.974237</td>\n",
       "      <td>2480.002053</td>\n",
       "      <td>2480.595788</td>\n",
       "      <td>2483.789713</td>\n",
       "      <td>2494.591165</td>\n",
       "      <td>2511.591875</td>\n",
       "    </tr>\n",
       "    <tr>\n",
       "      <th>978089.0</th>\n",
       "      <td>196.0</td>\n",
       "      <td>2634.476037</td>\n",
       "      <td>18.850390</td>\n",
       "      <td>2601.291868</td>\n",
       "      <td>2616.975209</td>\n",
       "      <td>2639.947240</td>\n",
       "      <td>2652.862353</td>\n",
       "      <td>2655.922951</td>\n",
       "    </tr>\n",
       "  </tbody>\n",
       "</table>\n",
       "<p>140 rows × 8 columns</p>\n",
       "</div>"
      ],
      "text/plain": [
       "          count         mean        std          min          25%  \\\n",
       "class_id                                                            \n",
       "103507.0  129.0   211.490356  15.047678   190.584344   195.131695   \n",
       "124140.0  131.0   266.226780   5.764617   243.597071   265.517376   \n",
       "125403.0  255.0   272.630909   9.304762   246.544069   266.796339   \n",
       "136916.0  346.0   432.500053   9.667149   400.035378   426.073675   \n",
       "169673.0    5.0   411.753850   0.394184   411.322043   411.322043   \n",
       "175962.0  248.0   483.910155   3.934202   455.881691   480.636461   \n",
       "178529.0  298.0   488.990450  11.619110   468.481769   471.750199   \n",
       "186250.0   21.0   449.057822   0.080880   448.916885   448.988853   \n",
       "194201.0    2.0   474.396485   0.000000   474.396485   474.396485   \n",
       "194450.0  168.0   429.835548  14.132497   404.285615   417.967833   \n",
       "198427.0   77.0   634.723971   5.338467   621.450127   629.591354   \n",
       "206765.0   90.0   557.597374   7.470789   544.956429   551.714571   \n",
       "209945.0  304.0   463.434170   6.859044   447.060823   457.246264   \n",
       "219195.0  118.0   519.599389   3.367958   508.715216   516.922879   \n",
       "221795.0  170.0   484.622734  11.712850   464.414153   473.369717   \n",
       "245609.0   58.0   571.289940  12.747937   560.653950   561.159974   \n",
       "248352.0  472.0   645.605095  24.183439   612.722087   614.975417   \n",
       "249875.0   45.0   673.155269   6.237397   663.281904   666.380448   \n",
       "250658.0   30.0   697.584755   0.489787   695.553194   697.392321   \n",
       "265980.0  161.0   637.079485   6.863871   629.228252   631.374675   \n",
       "270690.0  110.0   754.015636   2.752712   750.444342   750.750666   \n",
       "281301.0  328.0   723.361681   6.776634   704.932006   720.719336   \n",
       "281792.0  115.0   672.871865  15.091487   646.627064   663.720354   \n",
       "289386.0  171.0   739.943191  14.804005   716.203232   721.197475   \n",
       "289403.0   60.0   793.208112   6.906648   784.327273   784.639883   \n",
       "290854.0  380.0   756.493945   8.835204   732.392311   749.033741   \n",
       "291086.0  248.0   744.485404   6.785509   729.285438   743.456813   \n",
       "291514.0  147.0   702.709048   2.307244   696.319345   700.916248   \n",
       "302513.0   33.0   742.304881   5.497324   735.129013   737.252971   \n",
       "304458.0  347.0   879.998305   9.816099   849.710256   875.940168   \n",
       "...         ...          ...        ...          ...          ...   \n",
       "745137.0  451.0  1928.348617  17.217236  1902.830845  1912.736265   \n",
       "750340.0   51.0  1885.497155   5.182116  1879.846623  1879.981563   \n",
       "760412.0   25.0  2003.782587  11.364328  1989.871296  1992.723257   \n",
       "786351.0  206.0  2045.163921   3.034089  2040.630956  2042.372289   \n",
       "789290.0   17.0  2171.868816   5.672067  2164.956537  2169.437004   \n",
       "810398.0   46.0  2097.059864   5.390293  2079.241922  2096.151689   \n",
       "815230.0   14.0  2140.196325  15.441458  2116.121856  2124.938571   \n",
       "819061.0  258.0  2090.930033  11.209825  2068.379041  2080.290346   \n",
       "842246.0    5.0  2180.526272   0.076174  2180.407525  2180.506481   \n",
       "851857.0   38.0  2208.376966   4.467023  2203.076265  2204.101807   \n",
       "854079.0  142.0  2280.687016   2.960659  2276.599693  2277.868126   \n",
       "854548.0   19.0  2277.508150   7.385666  2267.980736  2272.232027   \n",
       "861459.0   15.0  2289.184521   2.210102  2287.436177  2287.647583   \n",
       "871642.0  167.0  2205.758944  14.037211  2190.252840  2192.645770   \n",
       "872180.0    6.0  2210.576204   1.636463  2208.450117  2209.260894   \n",
       "883691.0  201.0  2282.117523   5.837511  2268.448410  2278.884500   \n",
       "890189.0   19.0  2345.163579   0.758706  2344.215190  2344.437705   \n",
       "905061.0    6.0  2353.207536   3.940987  2350.371887  2350.522570   \n",
       "905745.0  159.0  2305.237364   5.674543  2288.547483  2303.115217   \n",
       "914348.0  423.0  2343.616978  10.588719  2318.144267  2339.372781   \n",
       "923841.0  208.0  2443.033806   2.679480  2438.719008  2440.928357   \n",
       "924154.0   67.0  2424.089365   3.789672  2419.994193  2420.291060   \n",
       "948936.0   13.0  2457.170789   0.021366  2457.136189  2457.163177   \n",
       "950264.0   54.0  2443.503039  15.612345  2419.801959  2435.528223   \n",
       "953842.0   50.0  2421.662518  13.006706  2398.101380  2415.735894   \n",
       "961362.0  238.0  2462.113088   7.154446  2437.360831  2458.296703   \n",
       "961962.0  222.0  2536.325135   7.683055  2512.142878  2532.045857   \n",
       "963845.0   99.0  2460.711019   6.331324  2437.911843  2458.568196   \n",
       "973106.0   32.0  2490.727132  11.974237  2480.002053  2480.595788   \n",
       "978089.0  196.0  2634.476037  18.850390  2601.291868  2616.975209   \n",
       "\n",
       "                  50%          75%          max  \n",
       "class_id                                         \n",
       "103507.0   222.925876   223.546599   229.629626  \n",
       "124140.0   266.943469   269.469531   270.423105  \n",
       "125403.0   277.143354   279.968717   281.044861  \n",
       "136916.0   436.292937   438.269117   446.015477  \n",
       "169673.0   412.041721   412.041721   412.041721  \n",
       "175962.0   485.671383   486.697154   487.660275  \n",
       "178529.0   494.165366   497.185188   507.042476  \n",
       "186250.0   449.060821   449.114796   449.186764  \n",
       "194201.0   474.396485   474.396485   474.396485  \n",
       "194450.0   421.213537   441.424935   463.359907  \n",
       "198427.0   638.269503   640.738286   641.141057  \n",
       "206765.0   560.840341   566.265832   566.837648  \n",
       "209945.0   464.399241   466.647471   484.291930  \n",
       "219195.0   519.879079   522.700986   523.903820  \n",
       "221795.0   489.590049   494.722668   501.250801  \n",
       "245609.0   562.004439   587.267443   593.570391  \n",
       "248352.0   662.786280   664.037122   671.710666  \n",
       "249875.0   675.137484   677.684163   683.344486  \n",
       "250658.0   697.680704   697.915623   698.106989  \n",
       "265980.0   631.374675   645.542226   648.862095  \n",
       "270690.0   755.066837   755.373161   759.799652  \n",
       "281301.0   724.990919   726.542169   732.842394  \n",
       "281792.0   665.906146   691.270887   695.527878  \n",
       "289386.0   744.139056   751.515280   755.797944  \n",
       "289403.0   791.067624   796.299028   803.083272  \n",
       "290854.0   760.110631   764.172511   768.147182  \n",
       "291086.0   746.985314   748.154605   759.702897  \n",
       "291514.0   703.842134   704.651772   706.007389  \n",
       "302513.0   740.775441   749.143156   749.341067  \n",
       "304458.0   881.503768   885.965347   893.862462  \n",
       "...               ...          ...          ...  \n",
       "745137.0  1922.146646  1945.280662  1954.159662  \n",
       "750340.0  1890.063721  1890.198661  1891.323158  \n",
       "760412.0  1999.264038  2018.712860  2019.477518  \n",
       "786351.0  2043.307870  2048.052269  2048.902389  \n",
       "789290.0  2169.526964  2173.790401  2180.892885  \n",
       "810398.0  2096.387834  2101.890317  2102.245658  \n",
       "815230.0  2149.544539  2149.740201  2149.823414  \n",
       "819061.0  2093.589040  2100.519965  2107.932320  \n",
       "842246.0  2180.533468  2180.587444  2180.596440  \n",
       "851857.0  2208.052883  2212.921549  2213.452312  \n",
       "854079.0  2280.565150  2283.946095  2284.991864  \n",
       "854548.0  2276.483317  2286.814105  2286.814105  \n",
       "861459.0  2287.876980  2289.294866  2293.318817  \n",
       "871642.0  2198.577522  2220.219265  2233.445152  \n",
       "872180.0  2211.625754  2211.639248  2211.639248  \n",
       "883691.0  2281.214103  2287.992519  2290.205765  \n",
       "890189.0  2345.749369  2345.807843  2346.370092  \n",
       "905061.0  2350.907148  2356.430490  2358.393050  \n",
       "905745.0  2307.041087  2308.313493  2312.313867  \n",
       "914348.0  2342.485073  2346.558883  2379.363340  \n",
       "923841.0  2442.389599  2445.111128  2451.096134  \n",
       "924154.0  2427.519834  2427.812203  2427.978629  \n",
       "948936.0  2457.172173  2457.190165  2457.199161  \n",
       "950264.0  2453.585002  2457.716610  2459.711409  \n",
       "953842.0  2416.028264  2435.872131  2436.805356  \n",
       "961362.0  2462.399822  2466.245450  2474.685255  \n",
       "961962.0  2536.345912  2537.919288  2555.298555  \n",
       "963845.0  2458.991007  2464.796058  2469.980387  \n",
       "973106.0  2483.789713  2494.591165  2511.591875  \n",
       "978089.0  2639.947240  2652.862353  2655.922951  \n",
       "\n",
       "[140 rows x 8 columns]"
      ]
     },
     "execution_count": 112,
     "metadata": {},
     "output_type": "execute_result"
    }
   ],
   "source": [
    "# data = to_predict.groupby('class_id')\n",
    "# data['predict_quantity'].describe()"
   ]
  },
  {
   "cell_type": "code",
   "execution_count": 108,
<<<<<<< HEAD
   "metadata": {
    "collapsed": false
   },
=======
   "metadata": {},
>>>>>>> 0013d58d39eb31805491e1f3edecc0b34ca2ecb2
   "outputs": [
    {
     "data": {
      "text/html": [
       "<div>\n",
       "<style>\n",
       "    .dataframe thead tr:only-child th {\n",
       "        text-align: right;\n",
       "    }\n",
       "\n",
       "    .dataframe thead th {\n",
       "        text-align: left;\n",
       "    }\n",
       "\n",
       "    .dataframe tbody tr th {\n",
       "        vertical-align: top;\n",
       "    }\n",
       "</style>\n",
       "<table border=\"1\" class=\"dataframe\">\n",
       "  <thead>\n",
       "    <tr style=\"text-align: right;\">\n",
       "      <th></th>\n",
       "      <th>predict_quantity</th>\n",
       "    </tr>\n",
       "    <tr>\n",
       "      <th>class_id</th>\n",
       "      <th></th>\n",
       "    </tr>\n",
       "  </thead>\n",
       "  <tbody>\n",
       "    <tr>\n",
       "      <th>103507.0</th>\n",
       "      <td>211.490356</td>\n",
       "    </tr>\n",
       "    <tr>\n",
       "      <th>124140.0</th>\n",
       "      <td>266.226780</td>\n",
       "    </tr>\n",
       "    <tr>\n",
       "      <th>125403.0</th>\n",
       "      <td>272.630909</td>\n",
       "    </tr>\n",
       "    <tr>\n",
       "      <th>136916.0</th>\n",
       "      <td>432.500053</td>\n",
       "    </tr>\n",
       "    <tr>\n",
       "      <th>169673.0</th>\n",
       "      <td>411.753850</td>\n",
       "    </tr>\n",
       "  </tbody>\n",
       "</table>\n",
       "</div>"
      ],
      "text/plain": [
       "          predict_quantity\n",
       "class_id                  \n",
       "103507.0        211.490356\n",
       "124140.0        266.226780\n",
       "125403.0        272.630909\n",
       "136916.0        432.500053\n",
       "169673.0        411.753850"
      ]
     },
     "execution_count": 108,
     "metadata": {},
     "output_type": "execute_result"
    }
   ],
   "source": [
    "sale_predict = pd.DataFrame(sale_predict)\n",
    "sale_predict.head()"
   ]
  },
  {
   "cell_type": "code",
   "execution_count": 101,
<<<<<<< HEAD
   "metadata": {
    "collapsed": false
   },
=======
   "metadata": {},
>>>>>>> 0013d58d39eb31805491e1f3edecc0b34ca2ecb2
   "outputs": [
    {
     "data": {
      "text/html": [
       "<div>\n",
       "<style>\n",
       "    .dataframe thead tr:only-child th {\n",
       "        text-align: right;\n",
       "    }\n",
       "\n",
       "    .dataframe thead th {\n",
       "        text-align: left;\n",
       "    }\n",
       "\n",
       "    .dataframe tbody tr th {\n",
       "        vertical-align: top;\n",
       "    }\n",
       "</style>\n",
       "<table border=\"1\" class=\"dataframe\">\n",
       "  <thead>\n",
       "    <tr style=\"text-align: right;\">\n",
       "      <th></th>\n",
       "      <th>predict_date</th>\n",
       "      <th>predict_quantity</th>\n",
       "    </tr>\n",
       "    <tr>\n",
       "      <th>class_id</th>\n",
       "      <th></th>\n",
       "      <th></th>\n",
       "    </tr>\n",
       "  </thead>\n",
       "  <tbody>\n",
       "    <tr>\n",
       "      <th>103507</th>\n",
       "      <td>201711</td>\n",
       "      <td>211.490356</td>\n",
       "    </tr>\n",
       "    <tr>\n",
       "      <th>124140</th>\n",
       "      <td>201711</td>\n",
       "      <td>266.226780</td>\n",
       "    </tr>\n",
       "    <tr>\n",
       "      <th>125403</th>\n",
       "      <td>201711</td>\n",
       "      <td>272.630909</td>\n",
       "    </tr>\n",
       "    <tr>\n",
       "      <th>136916</th>\n",
       "      <td>201711</td>\n",
       "      <td>432.500053</td>\n",
       "    </tr>\n",
       "    <tr>\n",
       "      <th>169673</th>\n",
       "      <td>201711</td>\n",
       "      <td>411.753850</td>\n",
       "    </tr>\n",
       "  </tbody>\n",
       "</table>\n",
       "</div>"
      ],
      "text/plain": [
       "          predict_date  predict_quantity\n",
       "class_id                                \n",
       "103507          201711        211.490356\n",
       "124140          201711        266.226780\n",
       "125403          201711        272.630909\n",
       "136916          201711        432.500053\n",
       "169673          201711        411.753850"
      ]
     },
     "execution_count": 101,
     "metadata": {},
     "output_type": "execute_result"
    }
   ],
   "source": [
    "# test_submit = pd.read_csv('yancheng_testA.csv',header = 0, index_col = 'class_id')\n",
    "test_submit['predict_quantity'] = sale_predict['predict_quantity']\n",
    "test_submit.head()"
   ]
  },
  {
   "cell_type": "code",
   "execution_count": 104,
<<<<<<< HEAD
   "metadata": {
    "collapsed": true
   },
=======
   "metadata": {},
>>>>>>> 0013d58d39eb31805491e1f3edecc0b34ca2ecb2
   "outputs": [],
   "source": [
    "test_submit.to_csv('yancheng_testA_20171225-mean.csv', index = True)"
   ]
  },
  {
   "cell_type": "code",
   "execution_count": null,
   "metadata": {
    "collapsed": true
   },
   "outputs": [],
   "source": []
  },
  {
   "cell_type": "code",
   "execution_count": null,
   "metadata": {
    "collapsed": true
   },
   "outputs": [],
   "source": []
  },
  {
   "cell_type": "code",
   "execution_count": null,
   "metadata": {
    "collapsed": true
   },
   "outputs": [],
   "source": []
  },
  {
   "cell_type": "code",
   "execution_count": null,
   "metadata": {
    "collapsed": true
   },
   "outputs": [],
   "source": []
  },
  {
   "cell_type": "code",
   "execution_count": null,
   "metadata": {
    "collapsed": true
   },
   "outputs": [],
   "source": []
  }
 ],
 "metadata": {
<<<<<<< HEAD
  "anaconda-cloud": {},
  "kernelspec": {
   "display_name": "Python [default]",
=======
  "kernelspec": {
   "display_name": "Python 3",
>>>>>>> 0013d58d39eb31805491e1f3edecc0b34ca2ecb2
   "language": "python",
   "name": "python3"
  },
  "language_info": {
   "codemirror_mode": {
    "name": "ipython",
    "version": 3
   },
   "file_extension": ".py",
   "mimetype": "text/x-python",
   "name": "python",
   "nbconvert_exporter": "python",
   "pygments_lexer": "ipython3",
<<<<<<< HEAD
   "version": "3.5.2"
=======
   "version": "3.6.3"
>>>>>>> 0013d58d39eb31805491e1f3edecc0b34ca2ecb2
  }
 },
 "nbformat": 4,
 "nbformat_minor": 2
}
